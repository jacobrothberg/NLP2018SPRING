{
 "cells": [
  {
   "cell_type": "code",
   "execution_count": 1,
   "metadata": {
    "collapsed": true
   },
   "outputs": [],
   "source": [
    "import re\n",
    "import nltk\n",
    "import data_helpers\n",
    "import spacy\n",
    "from spacy import displacy\n",
    "% matplotlib inline"
   ]
  },
  {
   "cell_type": "markdown",
   "metadata": {},
   "source": [
    "## Load Data"
   ]
  },
  {
   "cell_type": "code",
   "execution_count": null,
   "metadata": {
    "collapsed": true
   },
   "outputs": [],
   "source": [
    "def clean_str(string):\n",
    "    \"\"\"\n",
    "    Tokenization/string cleaning for all datasets except for SST.\n",
    "    Original taken from https://github.com/yoonkim/CNN_sentence/blob/master/process_data.py\n",
    "    \"\"\"\n",
    "    string = re.sub(r\"[^A-Za-z0-9(),!?\\'\\`]\", \" \", string)\n",
    "    string = re.sub(r\"\\'s\", \" \\'s\", string)\n",
    "    string = re.sub(r\"\\'ve\", \" \\'ve\", string)\n",
    "    string = re.sub(r\"n\\'t\", \" n\\'t\", string)\n",
    "    string = re.sub(r\"\\'re\", \" \\'re\", string)\n",
    "    string = re.sub(r\"\\'d\", \" \\'d\", string)\n",
    "    string = re.sub(r\"\\'ll\", \" \\'ll\", string)\n",
    "    string = re.sub(r\",\", \" , \", string)\n",
    "    string = re.sub(r\"!\", \" ! \", string)\n",
    "    string = re.sub(r\"\\(\", \" \\( \", string)\n",
    "    string = re.sub(r\"\\)\", \" \\) \", string)\n",
    "    string = re.sub(r\"\\?\", \" \\? \", string)\n",
    "    string = re.sub(r\"\\s{2,}\", \" \", string)\n",
    "    return string.strip().lower()"
   ]
  },
  {
   "cell_type": "code",
   "execution_count": null,
   "metadata": {
    "collapsed": true
   },
   "outputs": [],
   "source": [
    "def labels_mapping(relation):\n",
    "    labelsMapping = {'Other': 0,\n",
    "                 'Message-Topic(e1,e2)': 1, 'Message-Topic(e2,e1)': 2,\n",
    "                 'Product-Producer(e1,e2)': 3, 'Product-Producer(e2,e1)': 4,\n",
    "                 'Instrument-Agency(e1,e2)': 5, 'Instrument-Agency(e2,e1)': 6,\n",
    "                 'Entity-Destination(e1,e2)': 7, 'Entity-Destination(e2,e1)': 8,\n",
    "                 'Cause-Effect(e1,e2)': 9, 'Cause-Effect(e2,e1)': 10,\n",
    "                 'Component-Whole(e1,e2)': 11, 'Component-Whole(e2,e1)': 12,\n",
    "                 'Entity-Origin(e1,e2)': 13, 'Entity-Origin(e2,e1)': 14,\n",
    "                 'Member-Collection(e1,e2)': 15, 'Member-Collection(e2,e1)': 16,\n",
    "                 'Content-Container(e1,e2)': 17, 'Content-Container(e2,e1)': 18}\n",
    "    return labelsMapping[relation]"
   ]
  },
  {
   "cell_type": "code",
   "execution_count": null,
   "metadata": {
    "collapsed": true
   },
   "outputs": [],
   "source": [
    "def read_data(path):\n",
    "    with open(path, \"r\") as f:\n",
    "        lines = [line.strip() for line in f.readlines()]\n",
    "    return lines\n",
    "\n",
    "def load_train_data(path):\n",
    "    data = []\n",
    "    data_label = []\n",
    "    lines = read_data(path)     \n",
    "    for idx in range(0, len(lines), 4):\n",
    "        ID = lines[idx].split(\"\\t\")[0]\n",
    "        \n",
    "        sentence = lines[idx].split(\"\\t\")[1][1:-1]\n",
    "        tokens = []\n",
    "        for token in sentence.split(' '):\n",
    "            if token.startswith('<e1>'):\n",
    "                entity_1 = re.split('<e1>|</e1>',token)[1]\n",
    "                tokens.append(entity_1)\n",
    "            elif token.startswith('<e2>'):\n",
    "                entity_2 = re.split('<e2>|</e2>',token)[1]\n",
    "                tokens.append(entity_2)\n",
    "            else:\n",
    "                tokens.append(token)\n",
    "        sentence = \" \".join(tokens)\n",
    "        sentence = clean_str(sentence)\n",
    "        \n",
    "        relation = lines[idx + 1]\n",
    "        relation_label = labels_mapping(relation)\n",
    "        #comment = lines[idx + 2].split('Comment:')[1]\n",
    "        data.append([ID, sentence, entity_1, entity_2])\n",
    "        data_label.append([ID, relation, relation_label])\n",
    "    return data, data_label\n",
    "\n",
    "def load_test_data(path):\n",
    "    data = []\n",
    "    lines = read_data(path)\n",
    "    for idx in range(0, len(lines)):\n",
    "        ID = lines[idx].split(\"\\t\")[0]\n",
    "        \n",
    "        sentence = lines[idx].split(\"\\t\")[1][1:-1]\n",
    "        tokens = []\n",
    "        for token in sentence.split(' '):\n",
    "            if token.startswith('<e1>'):\n",
    "                entity_1 = re.split('<e1>|</e1>',token)[1]\n",
    "                tokens.append(entity_1)\n",
    "            elif token.startswith('<e2>'):\n",
    "                entity_2 = re.split('<e2>|</e2>',token)[1]\n",
    "                tokens.append(entity_2)\n",
    "            else:\n",
    "                tokens.append(token)\n",
    "        sentence = \" \".join(tokens)\n",
    "        sentence = clean_str(sentence)\n",
    "        data.append([ID, sentence, entity_1, entity_2])\n",
    "    return data\n",
    "\n",
    "def load_test_answer(path):\n",
    "    lines = read_data(path)\n",
    "    data = []\n",
    "    for idx in range(0, len(lines)):\n",
    "        ID = lines[idx].split(\"\\t\")[0]\n",
    "        relation = lines[idx].split(\"\\t\")[1]\n",
    "        relation_label = labels_mapping(relation)\n",
    "        data.append([ID, relation, relation_label])\n",
    "    return data"
   ]
  },
  {
   "cell_type": "code",
   "execution_count": null,
   "metadata": {},
   "outputs": [],
   "source": [
    "train, train_label = load_train_data('data/TRAIN_FILE.txt')\n",
    "test = load_test_data('data/TEST_FILE.txt')\n",
    "test_label = load_test_answer('data/answer_key.txt')\n",
    "\n",
    "print(\"number of training instances:\", len(train))\n",
    "print(\"number of testing instances:\", len(test))"
   ]
  },
  {
   "cell_type": "code",
   "execution_count": null,
   "metadata": {},
   "outputs": [],
   "source": [
    "print(train[0])\n",
    "print(train_label[0])"
   ]
  },
  {
   "cell_type": "code",
   "execution_count": null,
   "metadata": {},
   "outputs": [],
   "source": [
    "print(test[0])\n",
    "print(test_label[0])"
   ]
  },
  {
   "cell_type": "markdown",
   "metadata": {},
   "source": [
    "### features"
   ]
  },
  {
   "cell_type": "code",
   "execution_count": 2,
   "metadata": {
    "collapsed": true
   },
   "outputs": [],
   "source": [
    "x_train_text, pos1_train, pos2_train, labels_train = data_helpers.load_data_and_labels('data/TRAIN_FILE.txt')\n",
    "x_test_text, pos1_test, pos2_test, labels_test = data_helpers.load_data_and_labels('data/TEST_FILE_FULL.txt')\n",
    "x_total = x_train_text + x_test_text"
   ]
  },
  {
   "cell_type": "markdown",
   "metadata": {},
   "source": [
    "1. dependency parse"
   ]
  },
  {
   "cell_type": "code",
   "execution_count": 23,
   "metadata": {
    "collapsed": true
   },
   "outputs": [],
   "source": [
    "nlp = spacy.load('en_core_web_sm')"
   ]
  },
  {
   "cell_type": "code",
   "execution_count": 26,
   "metadata": {},
   "outputs": [
    {
     "data": {
      "text/plain": [
       "'the student association is the voice of the undergraduate student population of the state university of new york at buffalo'"
      ]
     },
     "execution_count": 26,
     "metadata": {},
     "output_type": "execute_result"
    }
   ],
   "source": [
    "demo_sentence = x_train_text[4]\n",
    "demo_sentence"
   ]
  },
  {
   "cell_type": "code",
   "execution_count": 27,
   "metadata": {
    "scrolled": true
   },
   "outputs": [
    {
     "name": "stdout",
     "output_type": "stream",
     "text": [
      "the the DET DT det xxx True True 0 [association, is]\n",
      "student student NOUN NN compound xxxx True False 0 [association, is]\n",
      "association association NOUN NN nsubj xxxx True False 0 [is]\n",
      "is be VERB VBZ ROOT xx True True 0 []\n",
      "the the DET DT det xxx True True 0 [voice, is]\n",
      "voice voice NOUN NN attr xxxx True False 0 [is]\n",
      "of of ADP IN prep xx True True 0 [voice, is]\n",
      "the the DET DT det xxx True True 0 [population, of, voice, is]\n",
      "undergraduate undergraduate ADJ JJ amod xxxx True False 0 [student, population, of, voice, is]\n",
      "student student NOUN NN compound xxxx True False 0 [population, of, voice, is]\n",
      "population population NOUN NN pobj xxxx True False 0 [of, voice, is]\n",
      "of of ADP IN prep xx True True 0 [population, of, voice, is]\n",
      "the the DET DT det xxx True True 0 [university, of, population, of, voice, is]\n",
      "state state NOUN NN compound xxxx True False 0 [university, of, population, of, voice, is]\n",
      "university university NOUN NN pobj xxxx True False 0 [of, population, of, voice, is]\n",
      "of of ADP IN prep xx True True 0 [university, of, population, of, voice, is]\n",
      "new new ADJ JJ amod xxx True False 0 [york, of, university, of, population, of, voice, is]\n",
      "york york NOUN NN pobj xxxx True False 0 [of, university, of, population, of, voice, is]\n",
      "at at ADP IN prep xx True True 0 [voice, is]\n",
      "buffalo buffalo NOUN NN pobj xxxx True False 0 [at, voice, is]\n"
     ]
    }
   ],
   "source": [
    "\n",
    "doc = nlp(demo_sentence)\n",
    "\n",
    "for token in doc:\n",
    "    ancestors = [i for i in token.ancestors]\n",
    "    print(token.text, token.lemma_, token.pos_, token.tag_, token.dep_,\n",
    "          token.shape_, token.is_alpha, token.is_stop, token.ent_type,ancestors)\n",
    "\n",
    "# displacy.serve(doc, style='dep') "
   ]
  },
  {
   "cell_type": "code",
   "execution_count": 31,
   "metadata": {},
   "outputs": [
    {
     "name": "stdout",
     "output_type": "stream",
     "text": [
      "['the', 'student']\n",
      "[]\n",
      "2\n",
      "0\n"
     ]
    }
   ],
   "source": [
    "position_id = 2\n",
    "print([token.text for token in doc[position_id].lefts])  # ['bright', 'red']\n",
    "print([token.text for token in doc[position_id].rights])  # ['on']\n",
    "print(doc[position_id].n_lefts)  # 2\n",
    "print(doc[position_id].n_rights)  # 1"
   ]
  },
  {
   "cell_type": "code",
   "execution_count": null,
   "metadata": {
    "collapsed": true
   },
   "outputs": [],
   "source": []
  }
 ],
 "metadata": {
  "kernelspec": {
   "display_name": "Python 3",
   "language": "python",
   "name": "python3"
  },
  "language_info": {
   "codemirror_mode": {
    "name": "ipython",
    "version": 3
   },
   "file_extension": ".py",
   "mimetype": "text/x-python",
   "name": "python",
   "nbconvert_exporter": "python",
   "pygments_lexer": "ipython3",
   "version": "3.5.2"
  }
 },
 "nbformat": 4,
 "nbformat_minor": 2
}
