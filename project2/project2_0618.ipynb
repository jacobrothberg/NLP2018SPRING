{
 "cells": [
  {
   "cell_type": "code",
   "execution_count": 2,
   "metadata": {},
   "outputs": [
    {
     "name": "stdout",
     "output_type": "stream",
     "text": [
      "env: CUDA_VISIBLE_DEVICES=0\n"
     ]
    }
   ],
   "source": [
    "import re\n",
    "import string\n",
    "import nltk\n",
    "import pickle as pk\n",
    "import gensim\n",
    "import numpy as np\n",
    "from nltk.stem import *\n",
    "stemmer = PorterStemmer()\n",
    "from keras.preprocessing import sequence\n",
    "from keras.preprocessing.text import Tokenizer\n",
    "from keras.preprocessing.text import text_to_word_sequence\n",
    "import pandas as pd\n",
    "from sklearn.metrics import accuracy_score  \n",
    "from xgboost import XGBClassifier\n",
    "import data_helpers \n",
    "from sklearn.model_selection import train_test_split\n",
    "import matplotlib.pyplot as plt\n",
    "from keras.models import Sequential\n",
    "from keras.layers.core import Dense, Dropout\n",
    "from keras.layers.embeddings import Embedding\n",
    "from keras.layers.recurrent import GRU\n",
    "from keras.callbacks import ModelCheckpoint\n",
    "from keras.models import load_model\n",
    "from keras.utils import to_categorical\n",
    "from keras.models import Model\n",
    "from keras.layers import Embedding,Input,BatchNormalization,Dense,Bidirectional,LSTM,Dropout\n",
    "from keras.callbacks import History ,ModelCheckpoint, EarlyStopping\n",
    "%env CUDA_VISIBLE_DEVICES=0"
   ]
  },
  {
   "cell_type": "markdown",
   "metadata": {},
   "source": [
    "## Load Data"
   ]
  },
  {
   "cell_type": "code",
   "execution_count": 3,
   "metadata": {
    "collapsed": true
   },
   "outputs": [],
   "source": [
    "def _shuffle(X, Y):\n",
    "    randomize = np.arange(len(X))\n",
    "    np.random.shuffle(randomize)\n",
    "    return (X[randomize], Y[randomize])"
   ]
  },
  {
   "cell_type": "code",
   "execution_count": 32,
   "metadata": {},
   "outputs": [],
   "source": [
    "x_train_text, pos1_train, pos2_train, labels_train = data_helpers.load_data_and_labels('data/TRAIN_FILE.txt')\n",
    "x_test_text, pos1_test, pos2_test, labels_test = data_helpers.load_data_and_labels('data/TEST_FILE_FULL.txt')\n",
    "x_total = x_train_text + x_test_text"
   ]
  },
  {
   "cell_type": "markdown",
   "metadata": {},
   "source": [
    "## Tokenizer"
   ]
  },
  {
   "cell_type": "code",
   "execution_count": 5,
   "metadata": {},
   "outputs": [
    {
     "name": "stdout",
     "output_type": "stream",
     "text": [
      "Found 22433 unique tokens.\n"
     ]
    }
   ],
   "source": [
    "tokenizer = Tokenizer(num_words=25000,lower=True,split=' ',char_level=False)\n",
    "tokenizer.fit_on_texts(x_total)\n",
    "word_index = tokenizer.word_index\n",
    "print('Found %s unique tokens.' % len(word_index))"
   ]
  },
  {
   "cell_type": "code",
   "execution_count": 6,
   "metadata": {},
   "outputs": [
    {
     "name": "stdout",
     "output_type": "stream",
     "text": [
      "max length: 87\n"
     ]
    }
   ],
   "source": [
    "train_sentence_seq = tokenizer.texts_to_sequences(x_train_text)\n",
    "test_sentence_seq = tokenizer.texts_to_sequences(x_test_text)\n",
    "\n",
    "max_length = np.max([len(i) for i in train_sentence_seq+test_sentence_seq])\n",
    "print(\"max length:\", max_length)\n",
    "\n",
    "x_train_seq = sequence.pad_sequences(train_sentence_seq, maxlen=max_length)\n",
    "x_test_seq = sequence.pad_sequences(test_sentence_seq, maxlen=max_length)"
   ]
  },
  {
   "cell_type": "code",
   "execution_count": null,
   "metadata": {
    "collapsed": true
   },
   "outputs": [],
   "source": []
  },
  {
   "cell_type": "markdown",
   "metadata": {},
   "source": [
    "## Build embedding_matrix"
   ]
  },
  {
   "cell_type": "code",
   "execution_count": 31,
   "metadata": {},
   "outputs": [],
   "source": [
    "from gensim.test.utils import datapath, get_tmpfile\n",
    "from gensim.models import KeyedVectors\n",
    "from gensim.scripts.glove2word2vec import glove2word2vec\n",
    "# download pre-trained word vector from \"https://nlp.stanford.edu/projects/glove/\"\n",
    "tmp_file = get_tmpfile(\"/home/thtang/LifeLog/data/glove_pretrained/gensim_crawl_300d.txt\")\n",
    "\n",
    "w2vModel = KeyedVectors.load_word2vec_format(tmp_file)"
   ]
  },
  {
   "cell_type": "code",
   "execution_count": 9,
   "metadata": {
    "scrolled": true
   },
   "outputs": [
    {
     "name": "stderr",
     "output_type": "stream",
     "text": [
      "/usr/local/lib/python3.5/dist-packages/ipykernel_launcher.py:7: DeprecationWarning: Call to deprecated `wv` (Attribute will be removed in 4.0.0, use self instead).\n",
      "  import sys\n"
     ]
    },
    {
     "name": "stdout",
     "output_type": "stream",
     "text": [
      "OOV: 990\n"
     ]
    }
   ],
   "source": [
    "# prepare embedding matrix\n",
    "embedding_size = 300\n",
    "num_words = len(word_index)+1\n",
    "embedding_matrix = np.zeros((num_words, embedding_size))\n",
    "oov = 0\n",
    "for word, i in word_index.items():\n",
    "    if word in w2vModel.wv.vocab:\n",
    "        # words not found in embedding index will be all-zeros.\n",
    "        embedding_matrix[i] = w2vModel[word]\n",
    "    else:\n",
    "        oov+=1\n",
    "print(\"OOV:\",oov)"
   ]
  },
  {
   "cell_type": "code",
   "execution_count": 10,
   "metadata": {
    "collapsed": true
   },
   "outputs": [],
   "source": [
    "from keras.utils.generic_utils import get_custom_objects\n",
    "from keras.layers import Embedding, Input,InputLayer,BatchNormalization, Dense, Bidirectional,LSTM,Dropout,GRU,Activation\n",
    "from keras import backend as K\n",
    "def swish(x):\n",
    "    return (K.sigmoid(x) * x)\n",
    "get_custom_objects().update({'swish': Activation(swish)})\n",
    "\n",
    "def train_BiLSTM(x_train,y_train,x_val,y_val,embedding_matrix, max_length):\n",
    "    max_features = 22434\n",
    "    embedding_size = 300\n",
    "    batch_size = 64\n",
    "    epochs = 100\n",
    "    embedding_layer = Embedding(max_features,output_dim= embedding_size,\n",
    "                            weights=[embedding_matrix],\n",
    "                            input_length=max_length,\n",
    "                            trainable=False)\n",
    "    sequence_input = Input(shape=(max_length,), dtype='int32')\n",
    "    embedded_sequences = embedding_layer(sequence_input)\n",
    "    lstm0 = Bidirectional(LSTM(256,activation=\"tanh\",dropout=0.2,return_sequences = True,\n",
    "                kernel_initializer='he_uniform'))(embedded_sequences)\n",
    "    lstm1 = Bidirectional(LSTM(128,activation=\"tanh\",dropout=0.2,return_sequences = True,\n",
    "                kernel_initializer='he_uniform'))(lstm0)\n",
    "    lstm2 = Bidirectional(LSTM(64,activation=\"tanh\",dropout=0.2,return_sequences = False,\n",
    "                kernel_initializer='he_uniform'))(lstm1)\n",
    "    bn1 = BatchNormalization()(lstm2)\n",
    "    dense1 = Dense(64, activation=swish)(bn1)\n",
    "    dropout1 = Dropout(0.5)(dense1)\n",
    "    dense2 = Dense(32, activation=swish)(dropout1)\n",
    "    dropout2 = Dropout(0.5)(dense2)\n",
    "    preds = Dense(19, activation='softmax')(dropout2)\n",
    "    model = Model(sequence_input, preds)\n",
    "    model.compile(loss='categorical_crossentropy',\n",
    "                  optimizer='adam',\n",
    "                  metrics=['acc'])\n",
    "    filepath = \"models/BiLSTM.hdf5\" \n",
    "    checkpoint = ModelCheckpoint(filepath,monitor='val_acc',save_best_only=True)\n",
    "    callbacks_list = [checkpoint]\n",
    "    \n",
    "    history = model.fit(x_train, y_train, validation_data=(x_val, y_val), epochs=epochs, batch_size=batch_size, callbacks=callbacks_list)\n",
    "    \n",
    "    scores = model.evaluate(x_train, y_train, verbose=0)\n",
    "    print(\"Accuracy: %.2f%%\" % (scores[1]*100))"
   ]
  },
  {
   "cell_type": "code",
   "execution_count": 11,
   "metadata": {
    "scrolled": true
   },
   "outputs": [
    {
     "name": "stdout",
     "output_type": "stream",
     "text": [
      "Train on 8000 samples, validate on 2717 samples\n",
      "Epoch 1/100\n",
      "8000/8000 [==============================] - 111s 14ms/step - loss: 2.7808 - acc: 0.1510 - val_loss: 2.2726 - val_acc: 0.3136\n",
      "Epoch 2/100\n",
      "8000/8000 [==============================] - 102s 13ms/step - loss: 2.3605 - acc: 0.2777 - val_loss: 1.9721 - val_acc: 0.3651\n",
      "Epoch 3/100\n",
      "8000/8000 [==============================] - 101s 13ms/step - loss: 2.1140 - acc: 0.3490 - val_loss: 1.7696 - val_acc: 0.4442\n",
      "Epoch 4/100\n",
      "8000/8000 [==============================] - 103s 13ms/step - loss: 1.9371 - acc: 0.4050 - val_loss: 1.6273 - val_acc: 0.4810\n",
      "Epoch 5/100\n",
      "8000/8000 [==============================] - 98s 12ms/step - loss: 1.8291 - acc: 0.4395 - val_loss: 1.6237 - val_acc: 0.5024\n",
      "Epoch 6/100\n",
      "8000/8000 [==============================] - 103s 13ms/step - loss: 1.7100 - acc: 0.4698 - val_loss: 1.4862 - val_acc: 0.5223\n",
      "Epoch 7/100\n",
      "8000/8000 [==============================] - 103s 13ms/step - loss: 1.6096 - acc: 0.4862 - val_loss: 1.4817 - val_acc: 0.5351\n",
      "Epoch 8/100\n",
      "8000/8000 [==============================] - 101s 13ms/step - loss: 1.5059 - acc: 0.5319 - val_loss: 1.4320 - val_acc: 0.5510\n",
      "Epoch 9/100\n",
      "8000/8000 [==============================] - 100s 13ms/step - loss: 1.4091 - acc: 0.5566 - val_loss: 1.4115 - val_acc: 0.5683\n",
      "Epoch 10/100\n",
      "8000/8000 [==============================] - 103s 13ms/step - loss: 1.3125 - acc: 0.5821 - val_loss: 1.4037 - val_acc: 0.5801\n",
      "Epoch 11/100\n",
      "8000/8000 [==============================] - 99s 12ms/step - loss: 1.2505 - acc: 0.6131 - val_loss: 1.4656 - val_acc: 0.5709\n",
      "Epoch 12/100\n",
      "8000/8000 [==============================] - 100s 12ms/step - loss: 1.1419 - acc: 0.6419 - val_loss: 1.4407 - val_acc: 0.5996\n",
      "Epoch 13/100\n",
      "8000/8000 [==============================] - 102s 13ms/step - loss: 1.0920 - acc: 0.6643 - val_loss: 1.4869 - val_acc: 0.6014\n",
      "Epoch 14/100\n",
      "8000/8000 [==============================] - 104s 13ms/step - loss: 1.0136 - acc: 0.6907 - val_loss: 1.4951 - val_acc: 0.6117\n",
      "Epoch 15/100\n",
      "8000/8000 [==============================] - 100s 12ms/step - loss: 0.9498 - acc: 0.7100 - val_loss: 1.6031 - val_acc: 0.5970\n",
      "Epoch 16/100\n",
      "8000/8000 [==============================] - 100s 13ms/step - loss: 0.8901 - acc: 0.7313 - val_loss: 1.4823 - val_acc: 0.6183\n",
      "Epoch 17/100\n",
      "8000/8000 [==============================] - 104s 13ms/step - loss: 0.8537 - acc: 0.7449 - val_loss: 1.5967 - val_acc: 0.6080\n",
      "Epoch 18/100\n",
      "8000/8000 [==============================] - 100s 12ms/step - loss: 0.7744 - acc: 0.7678 - val_loss: 1.6544 - val_acc: 0.6194\n",
      "Epoch 19/100\n",
      "8000/8000 [==============================] - 100s 12ms/step - loss: 0.7308 - acc: 0.7837 - val_loss: 1.6488 - val_acc: 0.6213\n",
      "Epoch 20/100\n",
      "8000/8000 [==============================] - 102s 13ms/step - loss: 0.6976 - acc: 0.7911 - val_loss: 1.6974 - val_acc: 0.6135\n",
      "Epoch 21/100\n",
      "8000/8000 [==============================] - 103s 13ms/step - loss: 0.6402 - acc: 0.8169 - val_loss: 1.6661 - val_acc: 0.6448\n",
      "Epoch 22/100\n",
      "8000/8000 [==============================] - 99s 12ms/step - loss: 0.6020 - acc: 0.8257 - val_loss: 1.8187 - val_acc: 0.6231\n",
      "Epoch 23/100\n",
      "8000/8000 [==============================] - 102s 13ms/step - loss: 0.5813 - acc: 0.8355 - val_loss: 1.9362 - val_acc: 0.6216\n",
      "Epoch 24/100\n",
      "8000/8000 [==============================] - 100s 13ms/step - loss: 0.5396 - acc: 0.8423 - val_loss: 1.8679 - val_acc: 0.6345\n",
      "Epoch 25/100\n",
      "8000/8000 [==============================] - 106s 13ms/step - loss: 0.4976 - acc: 0.8642 - val_loss: 1.9842 - val_acc: 0.6327\n",
      "Epoch 26/100\n",
      "8000/8000 [==============================] - 102s 13ms/step - loss: 0.4571 - acc: 0.8729 - val_loss: 2.1464 - val_acc: 0.6338\n",
      "Epoch 27/100\n",
      "8000/8000 [==============================] - 101s 13ms/step - loss: 0.4367 - acc: 0.8752 - val_loss: 2.1789 - val_acc: 0.6235\n",
      "Epoch 28/100\n",
      "8000/8000 [==============================] - 99s 12ms/step - loss: 0.4225 - acc: 0.8834 - val_loss: 2.3176 - val_acc: 0.6283\n",
      "Epoch 29/100\n",
      "8000/8000 [==============================] - 102s 13ms/step - loss: 0.3979 - acc: 0.8949 - val_loss: 2.1317 - val_acc: 0.6434\n",
      "Epoch 30/100\n",
      "8000/8000 [==============================] - 101s 13ms/step - loss: 0.3936 - acc: 0.8952 - val_loss: 2.1432 - val_acc: 0.6404\n",
      "Epoch 31/100\n",
      "8000/8000 [==============================] - 105s 13ms/step - loss: 0.3489 - acc: 0.9027 - val_loss: 2.4072 - val_acc: 0.6459\n",
      "Epoch 32/100\n",
      "8000/8000 [==============================] - 102s 13ms/step - loss: 0.3324 - acc: 0.9156 - val_loss: 2.3262 - val_acc: 0.6434\n",
      "Epoch 33/100\n",
      "8000/8000 [==============================] - 102s 13ms/step - loss: 0.3434 - acc: 0.9095 - val_loss: 2.1788 - val_acc: 0.6338\n",
      "Epoch 34/100\n",
      "8000/8000 [==============================] - 101s 13ms/step - loss: 0.3053 - acc: 0.9199 - val_loss: 2.4141 - val_acc: 0.6537\n",
      "Epoch 35/100\n",
      "8000/8000 [==============================] - 102s 13ms/step - loss: 0.2851 - acc: 0.9263 - val_loss: 2.4915 - val_acc: 0.6463\n",
      "Epoch 36/100\n",
      "8000/8000 [==============================] - 102s 13ms/step - loss: 0.2849 - acc: 0.9240 - val_loss: 2.4156 - val_acc: 0.6397\n",
      "Epoch 37/100\n",
      "8000/8000 [==============================] - 101s 13ms/step - loss: 0.7503 - acc: 0.8162 - val_loss: 1.9561 - val_acc: 0.6161\n",
      "Epoch 38/100\n",
      "8000/8000 [==============================] - 101s 13ms/step - loss: 0.4754 - acc: 0.8806 - val_loss: 2.0788 - val_acc: 0.6360\n",
      "Epoch 39/100\n",
      "8000/8000 [==============================] - 104s 13ms/step - loss: 0.3347 - acc: 0.9155 - val_loss: 2.2206 - val_acc: 0.6463\n",
      "Epoch 40/100\n",
      "8000/8000 [==============================] - 102s 13ms/step - loss: 0.2626 - acc: 0.9311 - val_loss: 2.4165 - val_acc: 0.6430\n",
      "Epoch 41/100\n",
      "8000/8000 [==============================] - 101s 13ms/step - loss: 0.2313 - acc: 0.9410 - val_loss: 2.4133 - val_acc: 0.6474\n",
      "Epoch 42/100\n",
      "8000/8000 [==============================] - 102s 13ms/step - loss: 0.2195 - acc: 0.9403 - val_loss: 2.6430 - val_acc: 0.6485\n",
      "Epoch 43/100\n",
      "8000/8000 [==============================] - 98s 12ms/step - loss: 0.2175 - acc: 0.9500 - val_loss: 2.5253 - val_acc: 0.6529\n",
      "Epoch 44/100\n",
      "8000/8000 [==============================] - 101s 13ms/step - loss: 0.1952 - acc: 0.9509 - val_loss: 2.8270 - val_acc: 0.6459\n",
      "Epoch 45/100\n",
      "8000/8000 [==============================] - 101s 13ms/step - loss: 0.1932 - acc: 0.9504 - val_loss: 2.6343 - val_acc: 0.6404\n",
      "Epoch 46/100\n",
      "8000/8000 [==============================] - 98s 12ms/step - loss: 0.1905 - acc: 0.9539 - val_loss: 2.7953 - val_acc: 0.6456\n",
      "Epoch 47/100\n",
      "8000/8000 [==============================] - 102s 13ms/step - loss: 0.1889 - acc: 0.9541 - val_loss: 2.7027 - val_acc: 0.6397\n",
      "Epoch 48/100\n",
      "8000/8000 [==============================] - 101s 13ms/step - loss: 0.1860 - acc: 0.9511 - val_loss: 2.7637 - val_acc: 0.6518\n",
      "Epoch 49/100\n",
      "8000/8000 [==============================] - 96s 12ms/step - loss: 0.1736 - acc: 0.9595 - val_loss: 2.8532 - val_acc: 0.6452\n",
      "Epoch 50/100\n",
      "8000/8000 [==============================] - 99s 12ms/step - loss: 0.1702 - acc: 0.9554 - val_loss: 2.9146 - val_acc: 0.6496\n",
      "Epoch 51/100\n",
      "8000/8000 [==============================] - 101s 13ms/step - loss: 0.1454 - acc: 0.9663 - val_loss: 3.1813 - val_acc: 0.6478\n",
      "Epoch 52/100\n",
      "8000/8000 [==============================] - 100s 13ms/step - loss: 0.1641 - acc: 0.9590 - val_loss: 2.7245 - val_acc: 0.6540\n",
      "Epoch 53/100\n",
      "8000/8000 [==============================] - 100s 12ms/step - loss: 0.1627 - acc: 0.9601 - val_loss: 2.7627 - val_acc: 0.6305\n",
      "Epoch 54/100\n",
      "8000/8000 [==============================] - 99s 12ms/step - loss: 0.1743 - acc: 0.9594 - val_loss: 2.9071 - val_acc: 0.6478\n",
      "Epoch 55/100\n",
      "8000/8000 [==============================] - 99s 12ms/step - loss: 0.1299 - acc: 0.9702 - val_loss: 3.0822 - val_acc: 0.6529\n",
      "Epoch 56/100\n",
      "8000/8000 [==============================] - 101s 13ms/step - loss: 0.1357 - acc: 0.9690 - val_loss: 3.0797 - val_acc: 0.6463\n",
      "Epoch 57/100\n",
      "8000/8000 [==============================] - 101s 13ms/step - loss: 0.1495 - acc: 0.9637 - val_loss: 2.9066 - val_acc: 0.6470\n",
      "Epoch 58/100\n",
      "8000/8000 [==============================] - 102s 13ms/step - loss: 0.1407 - acc: 0.9673 - val_loss: 3.0898 - val_acc: 0.6489\n",
      "Epoch 59/100\n",
      "8000/8000 [==============================] - 102s 13ms/step - loss: 0.1533 - acc: 0.9659 - val_loss: 3.0049 - val_acc: 0.6474\n"
     ]
    },
    {
     "name": "stdout",
     "output_type": "stream",
     "text": [
      "Epoch 60/100\n",
      "8000/8000 [==============================] - 105s 13ms/step - loss: 0.1442 - acc: 0.9670 - val_loss: 3.0339 - val_acc: 0.6489\n",
      "Epoch 61/100\n",
      "8000/8000 [==============================] - 102s 13ms/step - loss: 0.1498 - acc: 0.9688 - val_loss: 2.9400 - val_acc: 0.6415\n",
      "Epoch 62/100\n",
      "8000/8000 [==============================] - 99s 12ms/step - loss: 0.1399 - acc: 0.9665 - val_loss: 3.0436 - val_acc: 0.6415\n",
      "Epoch 63/100\n",
      "8000/8000 [==============================] - 100s 13ms/step - loss: 0.1300 - acc: 0.9700 - val_loss: 3.0108 - val_acc: 0.6463\n",
      "Epoch 64/100\n",
      "8000/8000 [==============================] - 102s 13ms/step - loss: 0.1324 - acc: 0.9711 - val_loss: 3.0098 - val_acc: 0.6459\n",
      "Epoch 65/100\n",
      "8000/8000 [==============================] - 99s 12ms/step - loss: 0.1102 - acc: 0.9725 - val_loss: 3.1310 - val_acc: 0.6503\n",
      "Epoch 66/100\n",
      "8000/8000 [==============================] - 92s 11ms/step - loss: 0.1139 - acc: 0.9723 - val_loss: 3.2503 - val_acc: 0.6467\n",
      "Epoch 67/100\n",
      "8000/8000 [==============================] - 90s 11ms/step - loss: 0.1142 - acc: 0.9750 - val_loss: 3.1508 - val_acc: 0.6375\n",
      "Epoch 68/100\n",
      "8000/8000 [==============================] - 90s 11ms/step - loss: 0.1374 - acc: 0.9698 - val_loss: 3.2325 - val_acc: 0.6459\n",
      "Epoch 69/100\n",
      "8000/8000 [==============================] - 90s 11ms/step - loss: 0.1377 - acc: 0.9686 - val_loss: 3.1446 - val_acc: 0.6408\n",
      "Epoch 70/100\n",
      "8000/8000 [==============================] - 91s 11ms/step - loss: 0.1065 - acc: 0.9758 - val_loss: 3.3304 - val_acc: 0.6423\n",
      "Epoch 71/100\n",
      "8000/8000 [==============================] - 97s 12ms/step - loss: 0.1144 - acc: 0.9723 - val_loss: 3.2989 - val_acc: 0.6334\n",
      "Epoch 72/100\n",
      "8000/8000 [==============================] - 98s 12ms/step - loss: 0.1356 - acc: 0.9696 - val_loss: 3.0709 - val_acc: 0.6489\n",
      "Epoch 73/100\n",
      "8000/8000 [==============================] - 93s 12ms/step - loss: 0.0996 - acc: 0.9753 - val_loss: 3.2310 - val_acc: 0.6481\n",
      "Epoch 74/100\n",
      "8000/8000 [==============================] - 91s 11ms/step - loss: 0.1072 - acc: 0.9742 - val_loss: 3.1321 - val_acc: 0.6529\n",
      "Epoch 75/100\n",
      "8000/8000 [==============================] - 93s 12ms/step - loss: 0.1001 - acc: 0.9774 - val_loss: 3.1309 - val_acc: 0.6467\n",
      "Epoch 76/100\n",
      "8000/8000 [==============================] - 89s 11ms/step - loss: 0.1271 - acc: 0.9720 - val_loss: 3.0886 - val_acc: 0.6481\n",
      "Epoch 77/100\n",
      "8000/8000 [==============================] - 90s 11ms/step - loss: 0.1437 - acc: 0.9665 - val_loss: 2.9530 - val_acc: 0.6467\n",
      "Epoch 78/100\n",
      "8000/8000 [==============================] - 90s 11ms/step - loss: 0.1006 - acc: 0.9776 - val_loss: 3.2672 - val_acc: 0.6518\n",
      "Epoch 79/100\n",
      "8000/8000 [==============================] - 92s 11ms/step - loss: 0.1094 - acc: 0.9732 - val_loss: 3.0312 - val_acc: 0.6599\n",
      "Epoch 80/100\n",
      "8000/8000 [==============================] - 94s 12ms/step - loss: 0.1188 - acc: 0.9721 - val_loss: 3.0326 - val_acc: 0.6533\n",
      "Epoch 81/100\n",
      "8000/8000 [==============================] - 94s 12ms/step - loss: 0.1014 - acc: 0.9769 - val_loss: 3.1399 - val_acc: 0.6522\n",
      "Epoch 82/100\n",
      "8000/8000 [==============================] - 94s 12ms/step - loss: 0.1181 - acc: 0.9755 - val_loss: 3.0168 - val_acc: 0.6507\n",
      "Epoch 83/100\n",
      "8000/8000 [==============================] - 95s 12ms/step - loss: 0.1289 - acc: 0.9724 - val_loss: 3.0044 - val_acc: 0.6452\n",
      "Epoch 84/100\n",
      "8000/8000 [==============================] - 95s 12ms/step - loss: 0.1172 - acc: 0.9739 - val_loss: 3.1352 - val_acc: 0.6548\n",
      "Epoch 85/100\n",
      "8000/8000 [==============================] - 94s 12ms/step - loss: 0.0864 - acc: 0.9794 - val_loss: 3.1605 - val_acc: 0.6614\n",
      "Epoch 86/100\n",
      "8000/8000 [==============================] - 94s 12ms/step - loss: 0.0940 - acc: 0.9811 - val_loss: 3.2625 - val_acc: 0.6625\n",
      "Epoch 87/100\n",
      "8000/8000 [==============================] - 95s 12ms/step - loss: 0.0898 - acc: 0.9818 - val_loss: 3.2854 - val_acc: 0.6588\n",
      "Epoch 88/100\n",
      "8000/8000 [==============================] - 94s 12ms/step - loss: 0.1005 - acc: 0.9764 - val_loss: 3.1467 - val_acc: 0.6588\n",
      "Epoch 89/100\n",
      "8000/8000 [==============================] - 95s 12ms/step - loss: 0.0835 - acc: 0.9819 - val_loss: 3.2949 - val_acc: 0.6485\n",
      "Epoch 90/100\n",
      "8000/8000 [==============================] - 94s 12ms/step - loss: 0.1091 - acc: 0.9758 - val_loss: 3.2038 - val_acc: 0.6503\n",
      "Epoch 91/100\n",
      "8000/8000 [==============================] - 95s 12ms/step - loss: 0.1038 - acc: 0.9776 - val_loss: 3.1747 - val_acc: 0.6503\n",
      "Epoch 92/100\n",
      "8000/8000 [==============================] - 94s 12ms/step - loss: 0.0780 - acc: 0.9825 - val_loss: 3.2187 - val_acc: 0.6562\n",
      "Epoch 93/100\n",
      "8000/8000 [==============================] - 94s 12ms/step - loss: 0.0731 - acc: 0.9843 - val_loss: 3.3004 - val_acc: 0.6632\n",
      "Epoch 94/100\n",
      "8000/8000 [==============================] - 92s 12ms/step - loss: 0.0903 - acc: 0.9825 - val_loss: 3.2820 - val_acc: 0.6515\n",
      "Epoch 95/100\n",
      "8000/8000 [==============================] - 94s 12ms/step - loss: 0.0904 - acc: 0.9808 - val_loss: 3.4452 - val_acc: 0.6364\n",
      "Epoch 96/100\n",
      "8000/8000 [==============================] - 95s 12ms/step - loss: 0.0904 - acc: 0.9801 - val_loss: 3.2422 - val_acc: 0.6540\n",
      "Epoch 97/100\n",
      "8000/8000 [==============================] - 95s 12ms/step - loss: 0.0878 - acc: 0.9808 - val_loss: 3.3935 - val_acc: 0.6540\n",
      "Epoch 98/100\n",
      "8000/8000 [==============================] - 94s 12ms/step - loss: 0.1040 - acc: 0.9788 - val_loss: 3.1759 - val_acc: 0.6588\n",
      "Epoch 99/100\n",
      "8000/8000 [==============================] - 93s 12ms/step - loss: 0.0957 - acc: 0.9791 - val_loss: 3.2497 - val_acc: 0.6625\n",
      "Epoch 100/100\n",
      "8000/8000 [==============================] - 94s 12ms/step - loss: 0.1002 - acc: 0.9774 - val_loss: 3.1231 - val_acc: 0.6588\n",
      "Accuracy: 99.84%\n"
     ]
    }
   ],
   "source": [
    "train_X, train_y = _shuffle(x_train_seq, labels_train)\n",
    "model = train_BiLSTM(train_X, train_y, x_test_seq ,labels_test ,\n",
    "                         embedding_matrix,\n",
    "                         max_length)"
   ]
  },
  {
   "cell_type": "markdown",
   "metadata": {},
   "source": [
    "## Testing"
   ]
  },
  {
   "cell_type": "code",
   "execution_count": 18,
   "metadata": {},
   "outputs": [],
   "source": [
    "y_test = [np.where(r==1)[0][0] for r in labels_test ]\n",
    "\n",
    "model = load_model('models/BiLSTM.hdf5')\n",
    "\n",
    "prediction = model.predict(x_test_seq, batch_size=1000)\n",
    "\n",
    "pred_y = np.argmax(prediction,axis=1)"
   ]
  },
  {
   "cell_type": "code",
   "execution_count": 19,
   "metadata": {},
   "outputs": [
    {
     "name": "stdout",
     "output_type": "stream",
     "text": [
      "accuracy: 0.6632315053367684\n"
     ]
    }
   ],
   "source": [
    "print(\"accuracy:\",accuracy_score(pred_y.tolist(), y_test)) "
   ]
  },
  {
   "cell_type": "code",
   "execution_count": 20,
   "metadata": {},
   "outputs": [],
   "source": [
    "labelsMapping = {'Other': 0,\n",
    "                 'Message-Topic(e1,e2)': 1, 'Message-Topic(e2,e1)': 2,\n",
    "                 'Product-Producer(e1,e2)': 3, 'Product-Producer(e2,e1)': 4,\n",
    "                 'Instrument-Agency(e1,e2)': 5, 'Instrument-Agency(e2,e1)': 6,\n",
    "                 'Entity-Destination(e1,e2)': 7, 'Entity-Destination(e2,e1)': 8,\n",
    "                 'Cause-Effect(e1,e2)': 9, 'Cause-Effect(e2,e1)': 10,\n",
    "                 'Component-Whole(e1,e2)': 11, 'Component-Whole(e2,e1)': 12,\n",
    "                 'Entity-Origin(e1,e2)': 13, 'Entity-Origin(e2,e1)': 14,\n",
    "                 'Member-Collection(e1,e2)': 15, 'Member-Collection(e2,e1)': 16,\n",
    "                 'Content-Container(e1,e2)': 17, 'Content-Container(e2,e1)': 18}\n",
    "labelsMapping_inv =  {v: k for k, v in labelsMapping.items()}"
   ]
  },
  {
   "cell_type": "code",
   "execution_count": 21,
   "metadata": {
    "collapsed": true
   },
   "outputs": [],
   "source": [
    "pred_y = [labelsMapping_inv[v] for v in pred_y]\n",
    "\n",
    "test_id = list(range(8001,8001+len(pred_y)))\n",
    "\n",
    "with open(\"proposed_answers.txt\", \"w\") as f:\n",
    "    for i in range(len(test_id)):\n",
    "        f.write(str(test_id[i])+\"\\t\"+pred_y[i])\n",
    "        f.write(\"\\n\")"
   ]
  },
  {
   "cell_type": "markdown",
   "metadata": {},
   "source": [
    "Then run the judgement"
   ]
  },
  {
   "cell_type": "code",
   "execution_count": null,
   "metadata": {
    "collapsed": true
   },
   "outputs": [],
   "source": []
  }
 ],
 "metadata": {
  "kernelspec": {
   "display_name": "Python 3",
   "language": "python",
   "name": "python3"
  },
  "language_info": {
   "codemirror_mode": {
    "name": "ipython",
    "version": 3
   },
   "file_extension": ".py",
   "mimetype": "text/x-python",
   "name": "python",
   "nbconvert_exporter": "python",
   "pygments_lexer": "ipython3",
   "version": "3.5.2"
  }
 },
 "nbformat": 4,
 "nbformat_minor": 2
}
