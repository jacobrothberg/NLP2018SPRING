{
 "cells": [
  {
   "cell_type": "code",
   "execution_count": null,
   "metadata": {},
   "outputs": [],
   "source": [
    "import re\n",
    "import string\n",
    "import nltk\n",
    "import pickle as pk\n",
    "import gensim\n",
    "import numpy as np\n",
    "from nltk.stem import *\n",
    "stemmer = PorterStemmer()\n",
    "from keras.preprocessing import sequence\n",
    "from keras.preprocessing.text import Tokenizer\n",
    "from keras.preprocessing.text import text_to_word_sequence\n",
    "import pandas as pd\n",
    "from sklearn.metrics import accuracy_score  \n",
    "from xgboost import XGBClassifier\n",
    "import data_helpers \n",
    "from sklearn.model_selection import train_test_split\n",
    "import matplotlib.pyplot as plt\n",
    "from keras.models import Sequential\n",
    "from keras.layers.core import Dense, Dropout\n",
    "from keras.layers.embeddings import Embedding\n",
    "from keras.layers.recurrent import GRU\n",
    "from keras.callbacks import ModelCheckpoint\n",
    "from keras.models import load_model\n",
    "from keras.utils import to_categorical\n",
    "from keras.models import Model\n",
    "from keras.layers import Embedding,Input,BatchNormalization,Dense,Bidirectional,LSTM,Dropout\n",
    "from keras.callbacks import History ,ModelCheckpoint, EarlyStopping\n",
    "%env CUDA_VISIBLE_DEVICES=0"
   ]
  },
  {
   "cell_type": "markdown",
   "metadata": {},
   "source": [
    "## Load Data"
   ]
  },
  {
   "cell_type": "code",
   "execution_count": null,
   "metadata": {
    "collapsed": true
   },
   "outputs": [],
   "source": [
    "def _shuffle(X, Y):\n",
    "    randomize = np.arange(len(X))\n",
    "    np.random.shuffle(randomize)\n",
    "    return (X[randomize], Y[randomize])"
   ]
  },
  {
   "cell_type": "code",
   "execution_count": null,
   "metadata": {},
   "outputs": [],
   "source": [
    "x_train_text, pos1_train, pos2_train, labels_train = data_helpers.load_data_and_labels('data/TRAIN_FILE.txt')\n",
    "x_test_text, pos1_test, pos2_test, labels_test = data_helpers.load_data_and_labels('data/TEST_FILE_FULL.txt')\n",
    "x_total = x_train_text + x_test_text"
   ]
  },
  {
   "cell_type": "markdown",
   "metadata": {},
   "source": [
    "## Tokenizer"
   ]
  },
  {
   "cell_type": "code",
   "execution_count": null,
   "metadata": {},
   "outputs": [],
   "source": [
    "tokenizer = Tokenizer(num_words=25000,lower=True,split=' ',char_level=False)\n",
    "tokenizer.fit_on_texts(x_total)\n",
    "word_index = tokenizer.word_index\n",
    "print('Found %s unique tokens.' % len(word_index))"
   ]
  },
  {
   "cell_type": "code",
   "execution_count": null,
   "metadata": {},
   "outputs": [],
   "source": [
    "train_sentence_seq = tokenizer.texts_to_sequences(x_train_text)\n",
    "test_sentence_seq = tokenizer.texts_to_sequences(x_test_text)\n",
    "\n",
    "max_length = np.max([len(i) for i in train_sentence_seq+test_sentence_seq])\n",
    "print(\"max length:\", max_length)\n",
    "\n",
    "x_train_seq = sequence.pad_sequences(train_sentence_seq, maxlen=max_length)\n",
    "x_test_seq = sequence.pad_sequences(test_sentence_seq, maxlen=max_length)"
   ]
  },
  {
   "cell_type": "code",
   "execution_count": null,
   "metadata": {
    "collapsed": true
   },
   "outputs": [],
   "source": []
  },
  {
   "cell_type": "markdown",
   "metadata": {},
   "source": [
    "## Build embedding_matrix"
   ]
  },
  {
   "cell_type": "code",
   "execution_count": null,
   "metadata": {},
   "outputs": [],
   "source": [
    "from gensim.test.utils import datapath, get_tmpfile\n",
    "from gensim.models import KeyedVectors\n",
    "from gensim.scripts.glove2word2vec import glove2word2vec\n",
    "# download pre-trained word vector from \"https://nlp.stanford.edu/projects/glove/\"\n",
    "tmp_file = get_tmpfile(\"/home/thtang/LifeLog/data/glove_pretrained/gensim_crawl_300d.txt\")\n",
    "\n",
    "w2vModel = KeyedVectors.load_word2vec_format(tmp_file)"
   ]
  },
  {
   "cell_type": "code",
   "execution_count": null,
   "metadata": {
    "scrolled": true
   },
   "outputs": [],
   "source": [
    "# prepare embedding matrix\n",
    "embedding_size = 300\n",
    "num_words = len(word_index)+1\n",
    "embedding_matrix = np.zeros((num_words, embedding_size))\n",
    "oov = 0\n",
    "for word, i in word_index.items():\n",
    "    if word in w2vModel.wv.vocab:\n",
    "        # words not found in embedding index will be all-zeros.\n",
    "        embedding_matrix[i] = w2vModel[word]\n",
    "    else:\n",
    "        oov+=1\n",
    "print(\"OOV:\",oov)"
   ]
  },
  {
   "cell_type": "code",
   "execution_count": null,
   "metadata": {
    "collapsed": true
   },
   "outputs": [],
   "source": [
    "from keras.utils.generic_utils import get_custom_objects\n",
    "from keras.layers import Embedding, Input,InputLayer,BatchNormalization, Dense, Bidirectional,LSTM,Dropout,GRU,Activation\n",
    "from keras import backend as K\n",
    "def swish(x):\n",
    "    return (K.sigmoid(x) * x)\n",
    "get_custom_objects().update({'swish': Activation(swish)})\n",
    "\n",
    "def train_BiLSTM(x_train,y_train,x_val,y_val,embedding_matrix, max_length):\n",
    "    max_features = 22434\n",
    "    embedding_size = 300\n",
    "    batch_size = 64\n",
    "    epochs = 100\n",
    "    embedding_layer = Embedding(max_features,output_dim= embedding_size,\n",
    "                            weights=[embedding_matrix],\n",
    "                            input_length=max_length,\n",
    "                            trainable=False)\n",
    "    sequence_input = Input(shape=(max_length,), dtype='int32')\n",
    "    embedded_sequences = embedding_layer(sequence_input)\n",
    "    lstm0 = Bidirectional(LSTM(256,activation=\"tanh\",dropout=0.2,return_sequences = True,\n",
    "                kernel_initializer='he_uniform'))(embedded_sequences)\n",
    "    lstm1 = Bidirectional(LSTM(128,activation=\"tanh\",dropout=0.2,return_sequences = True,\n",
    "                kernel_initializer='he_uniform'))(lstm0)\n",
    "    lstm2 = Bidirectional(LSTM(64,activation=\"tanh\",dropout=0.2,return_sequences = False,\n",
    "                kernel_initializer='he_uniform'))(lstm1)\n",
    "    bn1 = BatchNormalization()(lstm2)\n",
    "    dense1 = Dense(64, activation=swish)(bn1)\n",
    "    dropout1 = Dropout(0.5)(dense1)\n",
    "    dense2 = Dense(32, activation=swish)(dropout1)\n",
    "    dropout2 = Dropout(0.5)(dense2)\n",
    "    preds = Dense(19, activation='softmax')(dropout2)\n",
    "    model = Model(sequence_input, preds)\n",
    "    model.compile(loss='categorical_crossentropy',\n",
    "                  optimizer='adam',\n",
    "                  metrics=['acc'])\n",
    "    filepath = \"models/BiLSTM.hdf5\" \n",
    "    checkpoint = ModelCheckpoint(filepath,monitor='val_acc',save_best_only=True)\n",
    "    callbacks_list = [checkpoint]\n",
    "    \n",
    "    history = model.fit(x_train, y_train, validation_data=(x_val, y_val), epochs=epochs, batch_size=batch_size, callbacks=callbacks_list)\n",
    "    \n",
    "    scores = model.evaluate(x_train, y_train, verbose=0)\n",
    "    print(\"Accuracy: %.2f%%\" % (scores[1]*100))"
   ]
  },
  {
   "cell_type": "code",
   "execution_count": null,
   "metadata": {
    "scrolled": true
   },
   "outputs": [],
   "source": [
    "train_X, train_y = _shuffle(x_train_seq, labels_train)\n",
    "model = train_BiLSTM(train_X, train_y, x_test_seq ,labels_test ,\n",
    "                         embedding_matrix,\n",
    "                         max_length)"
   ]
  },
  {
   "cell_type": "markdown",
   "metadata": {},
   "source": [
    "## Testing"
   ]
  },
  {
   "cell_type": "code",
   "execution_count": null,
   "metadata": {},
   "outputs": [],
   "source": [
    "y_test = [np.where(r==1)[0][0] for r in labels_test ]\n",
    "\n",
    "model = load_model('models/BiLSTM.hdf5')\n",
    "\n",
    "prediction = model.predict(x_test_seq, batch_size=1000)\n",
    "\n",
    "pred_y = np.argmax(prediction,axis=1)"
   ]
  },
  {
   "cell_type": "code",
   "execution_count": null,
   "metadata": {},
   "outputs": [],
   "source": [
    "print(\"accuracy:\",accuracy_score(pred_y.tolist(), y_test)) "
   ]
  },
  {
   "cell_type": "code",
   "execution_count": null,
   "metadata": {},
   "outputs": [],
   "source": [
    "labelsMapping = {'Other': 0,\n",
    "                 'Message-Topic(e1,e2)': 1, 'Message-Topic(e2,e1)': 2,\n",
    "                 'Product-Producer(e1,e2)': 3, 'Product-Producer(e2,e1)': 4,\n",
    "                 'Instrument-Agency(e1,e2)': 5, 'Instrument-Agency(e2,e1)': 6,\n",
    "                 'Entity-Destination(e1,e2)': 7, 'Entity-Destination(e2,e1)': 8,\n",
    "                 'Cause-Effect(e1,e2)': 9, 'Cause-Effect(e2,e1)': 10,\n",
    "                 'Component-Whole(e1,e2)': 11, 'Component-Whole(e2,e1)': 12,\n",
    "                 'Entity-Origin(e1,e2)': 13, 'Entity-Origin(e2,e1)': 14,\n",
    "                 'Member-Collection(e1,e2)': 15, 'Member-Collection(e2,e1)': 16,\n",
    "                 'Content-Container(e1,e2)': 17, 'Content-Container(e2,e1)': 18}\n",
    "labelsMapping_inv =  {v: k for k, v in labelsMapping.items()}"
   ]
  },
  {
   "cell_type": "code",
   "execution_count": null,
   "metadata": {
    "collapsed": true
   },
   "outputs": [],
   "source": [
    "pred_y = [labelsMapping_inv[v] for v in pred_y]\n",
    "\n",
    "test_id = list(range(8001,8001+len(pred_y)))\n",
    "\n",
    "with open(\"proposed_answers.txt\", \"w\") as f:\n",
    "    for i in range(len(test_id)):\n",
    "        f.write(str(test_id[i])+\"\\t\"+pred_y[i])\n",
    "        f.write(\"\\n\")"
   ]
  },
  {
   "cell_type": "markdown",
   "metadata": {},
   "source": [
    "Then run the judgement"
   ]
  },
  {
   "cell_type": "code",
   "execution_count": null,
   "metadata": {
    "collapsed": true
   },
   "outputs": [],
   "source": []
  }
 ],
 "metadata": {
  "kernelspec": {
   "display_name": "Python 3",
   "language": "python",
   "name": "python3"
  },
  "language_info": {
   "codemirror_mode": {
    "name": "ipython",
    "version": 3
   },
   "file_extension": ".py",
   "mimetype": "text/x-python",
   "name": "python",
   "nbconvert_exporter": "python",
   "pygments_lexer": "ipython3",
   "version": "3.5.2"
  }
 },
 "nbformat": 4,
 "nbformat_minor": 2
}
