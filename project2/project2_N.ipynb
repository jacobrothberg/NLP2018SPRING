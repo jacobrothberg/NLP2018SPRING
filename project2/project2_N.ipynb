{
 "cells": [
  {
   "cell_type": "code",
   "execution_count": 1,
   "metadata": {},
   "outputs": [
    {
     "name": "stderr",
     "output_type": "stream",
     "text": [
      "D:\\Application\\Anaconda3\\envs\\tensorflow-gpu\\lib\\site-packages\\gensim\\utils.py:862: UserWarning: detected Windows; aliasing chunkize to chunkize_serial\n",
      "  warnings.warn(\"detected Windows; aliasing chunkize to chunkize_serial\")\n",
      "D:\\Application\\Anaconda3\\envs\\tensorflow-gpu\\lib\\site-packages\\h5py\\__init__.py:36: FutureWarning: Conversion of the second argument of issubdtype from `float` to `np.floating` is deprecated. In future, it will be treated as `np.float64 == np.dtype(float).type`.\n",
      "  from ._conv import register_converters as _register_converters\n",
      "Using TensorFlow backend.\n"
     ]
    }
   ],
   "source": [
    "import re\n",
    "import string\n",
    "import nltk\n",
    "import pickle as pk\n",
    "import gensim\n",
    "import numpy as np\n",
    "from nltk.stem import *\n",
    "stemmer = PorterStemmer()\n",
    "from keras.preprocessing import sequence\n",
    "from keras.preprocessing.text import Tokenizer\n",
    "from keras.preprocessing.text import text_to_word_sequence\n",
    "import pandas as pd\n",
    "from sklearn.metrics import accuracy_score  \n",
    "from xgboost import XGBClassifier\n",
    "import data_helpers \n",
    "from sklearn.model_selection import train_test_split\n",
    "import matplotlib.pyplot as plt\n",
    "from keras.models import Sequential\n",
    "from keras.layers.core import Dense, Dropout\n",
    "from keras.layers.embeddings import Embedding\n",
    "from keras.layers.recurrent import GRU\n",
    "from keras.callbacks import ModelCheckpoint\n",
    "from keras.utils import to_categorical\n",
    "from keras.models import Model\n",
    "from keras.layers import Embedding,Input,BatchNormalization,Dense,Bidirectional,LSTM,Dropout\n",
    "from keras.callbacks import History ,ModelCheckpoint, EarlyStopping"
   ]
  },
  {
   "cell_type": "markdown",
   "metadata": {},
   "source": [
    "## Load Data"
   ]
  },
  {
   "cell_type": "code",
   "execution_count": 46,
   "metadata": {},
   "outputs": [],
   "source": [
    "def _shuffle(X, Y):\n",
    "    randomize = np.arange(len(X))\n",
    "    np.random.shuffle(randomize)\n",
    "    return (X[randomize], Y[randomize])"
   ]
  },
  {
   "cell_type": "code",
   "execution_count": 2,
   "metadata": {},
   "outputs": [],
   "source": [
    "x_train_text, pos1_train, pos2_train, labels_train = data_helpers.load_data_and_labels('data/TRAIN_FILE.txt')\n",
    "x_test_text, pos1_test, pos2_test, labels_test = data_helpers.load_data_and_labels('data/TEST_FILE_FULL.txt')\n",
    "x_total = x_train_text + x_test_text"
   ]
  },
  {
   "cell_type": "markdown",
   "metadata": {},
   "source": [
    "## Tokenizer"
   ]
  },
  {
   "cell_type": "code",
   "execution_count": 3,
   "metadata": {},
   "outputs": [
    {
     "name": "stdout",
     "output_type": "stream",
     "text": [
      "Found 22433 unique tokens.\n"
     ]
    }
   ],
   "source": [
    "tokenizer = Tokenizer(num_words=25000,lower=True,split=' ',char_level=False)\n",
    "tokenizer.fit_on_texts(x_total)\n",
    "word_index = tokenizer.word_index\n",
    "print('Found %s unique tokens.' % len(word_index))"
   ]
  },
  {
   "cell_type": "code",
   "execution_count": 4,
   "metadata": {},
   "outputs": [],
   "source": [
    "train_sentence_seq = tokenizer.texts_to_sequences(x_train_text)\n",
    "x_train_seq = sequence.pad_sequences(train_sentence_seq, maxlen=100)\n",
    "\n",
    "test_sentence_seq = tokenizer.texts_to_sequences(x_test_text)\n",
    "x_test_seq = sequence.pad_sequences(test_sentence_seq, maxlen=100)\n",
    "\n",
    "\n"
   ]
  },
  {
   "cell_type": "code",
   "execution_count": 72,
   "metadata": {},
   "outputs": [],
   "source": []
  },
  {
   "cell_type": "markdown",
   "metadata": {},
   "source": [
    "## Build embedding_matrix"
   ]
  },
  {
   "cell_type": "code",
   "execution_count": 5,
   "metadata": {},
   "outputs": [],
   "source": [
    "MAX_NB_WORDS = 80000\n",
    "\n",
    "embedding_size = 300    # Word vector dimensionality                      \n",
    "min_word_count = 0   # Minimum word count                        \n",
    "num_workers = 4       # Number of threads to run in parallel\n",
    "context = 5          # Context window    size  \n",
    "\n",
    "w2vModel = gensim.models.KeyedVectors.load_word2vec_format('w2vfile/GoogleNews-vectors-negative300.bin', binary=True)\n",
    "#                                  sample = downsampling)\n",
    "#w2vModel.save('save/trained.model')\n",
    "# prepare embedding matrix\n",
    "num_words = min(MAX_NB_WORDS, len(word_index)+1)\n",
    "embedding_matrix = np.zeros((num_words, embedding_size))\n",
    "for word, i in word_index.items():\n",
    "    if i >= MAX_NB_WORDS:\n",
    "        continue\n",
    "    if word in w2vModel.wv.vocab:\n",
    "        # words not found in embedding index will be all-zeros.\n",
    "        embedding_matrix[i] = w2vModel.wv[word]"
   ]
  },
  {
   "cell_type": "markdown",
   "metadata": {},
   "source": [
    "## GRU training"
   ]
  },
  {
   "cell_type": "code",
   "execution_count": 73,
   "metadata": {},
   "outputs": [],
   "source": [
    "def train_GRU(x_train,y_train,x_val,y_val,embedding_matrix):\n",
    "    max_features = 22434\n",
    "    max_length = 100\n",
    "    embedding_size = 300\n",
    "    gru_output_size = 128\n",
    "    batch_size = 1000\n",
    "    epochs = 30\n",
    "      \n",
    "    model = Sequential()\n",
    "    model.add(Embedding(input_dim=max_features, output_dim=embedding_size, \n",
    "                        weights=[embedding_matrix], input_length=max_length, trainable=False))\n",
    "    model.add(Dropout(0.3))\n",
    "    \n",
    "    model.add(GRU(embedding_size, return_sequences=True, dropout=0.2, recurrent_dropout=0.2))\n",
    "    model.add(GRU(gru_output_size, dropout=0.2, recurrent_dropout=0.2))\n",
    "\n",
    "    model.add(Dense(units=64, activation='relu'))\n",
    "    model.add(Dropout(0.3))\n",
    "    model.add(Dense(units=19, activation='softmax'))\n",
    "    \n",
    "    model.compile(loss='binary_crossentropy', optimizer='adam', metrics = ['accuracy'])\n",
    "    \n",
    "    filepath=\"model/GRU_model.hdf5\"\n",
    "    checkpoint = ModelCheckpoint(filepath, monitor='val_acc', verbose=2, save_best_only=True, mode='max')\n",
    "    callbacks_list = [checkpoint]\n",
    "    \n",
    "    history = model.fit(x_train, y_train, validation_data=(x_val, y_val), epochs=epochs, batch_size=batch_size, callbacks=callbacks_list)\n",
    "    \n",
    "    scores = model.evaluate(x_train, y_train, verbose=0)\n",
    "    print(\"Accuracy: %.2f%%\" % (scores[1]*100))\n",
    "\n",
    "    model.summary()\n",
    "    #summarize history for accuracy\n",
    "    plt.plot(history.history['acc'])\n",
    "    plt.plot(history.history['val_acc'])\n",
    "    plt.title('Accuracy plot of GRU model')\n",
    "    plt.ylabel('Accuracy')\n",
    "    plt.xlabel('# of epoch')\n",
    "    plt.legend(['train', 'valid'], loc='upper left')\n",
    "    plt.show()\n",
    "\n",
    "    return model"
   ]
  },
  {
   "cell_type": "markdown",
   "metadata": {},
   "source": [
    "## BiLSTM resource：https://github.com/thtang/ML2017FALL/blob/master/hw4/hw4_w2v_2.py"
   ]
  },
  {
   "cell_type": "code",
   "execution_count": 88,
   "metadata": {},
   "outputs": [],
   "source": [
    "from keras.utils.generic_utils import get_custom_objects\n",
    "from keras.layers import Embedding, Input,InputLayer,BatchNormalization, Dense, Bidirectional,LSTM,Dropout,GRU,Activation\n",
    "from keras import backend as K\n",
    "def swish(x):\n",
    "    return (K.sigmoid(x) * x)\n",
    "get_custom_objects().update({'swish': Activation(swish)})\n",
    "\n",
    "def train_BiLSTM(x_train,y_train,x_val,y_val,embedding_matrix, i):\n",
    "    max_features = 22434\n",
    "    max_length = 100\n",
    "    embedding_size = 300\n",
    "    gru_output_size = 128\n",
    "    batch_size = 64\n",
    "    epochs = 100\n",
    "    embedding_layer = Embedding(max_features,output_dim= embedding_size,\n",
    "                            weights=[embedding_matrix],\n",
    "                            input_length=max_length,\n",
    "                            trainable=False)\n",
    "    sequence_input = Input(shape=(max_length,), dtype='int32')\n",
    "    embedded_sequences = embedding_layer(sequence_input)\n",
    "    lstm0 = Bidirectional(LSTM(256,activation=\"tanh\",dropout=0.2,return_sequences = True,\n",
    "                kernel_initializer='he_uniform'))(embedded_sequences)\n",
    "    lstm1 = Bidirectional(LSTM(128,activation=\"tanh\",dropout=0.2,return_sequences = True,\n",
    "                kernel_initializer='he_uniform'))(lstm0)\n",
    "    lstm2 = Bidirectional(LSTM(64,activation=\"tanh\",dropout=0.2,return_sequences = False,\n",
    "                kernel_initializer='he_uniform'))(lstm1)\n",
    "    bn1 = BatchNormalization()(lstm2)\n",
    "    dense1 = Dense(64, activation=swish)(bn1)\n",
    "    dropout1 = Dropout(0.5)(dense1)\n",
    "    dense2 = Dense(32, activation=swish)(dropout1)\n",
    "    dropout2 = Dropout(0.5)(dense2)\n",
    "    preds = Dense(19, activation='softmax')(dropout2)\n",
    "    model = Model(sequence_input, preds)\n",
    "    model.compile(loss='categorical_crossentropy',\n",
    "                  optimizer='adam',\n",
    "                  metrics=['acc'])\n",
    "    filepath = \"model/BiLSTM-{epoch:05d}-{val_acc:.5f}-\" + str(i) + \".hdf5\"\n",
    "    checkpoint = ModelCheckpoint(filepath,monitor='val_acc',save_best_only=True)\n",
    "    callbacks_list = [checkpoint]\n",
    "    \n",
    "    history = model.fit(x_train, y_train, validation_data=(x_val, y_val), epochs=epochs, batch_size=batch_size, callbacks=callbacks_list)\n",
    "    \n",
    "    scores = model.evaluate(x_train, y_train, verbose=0)\n",
    "    print(\"Accuracy: %.2f%%\" % (scores[1]*100))"
   ]
  },
  {
   "cell_type": "code",
   "execution_count": null,
   "metadata": {
    "scrolled": true
   },
   "outputs": [
    {
     "name": "stdout",
     "output_type": "stream",
     "text": [
      "Train on 7000 samples, validate on 1000 samples\n",
      "Epoch 1/100\n",
      "7000/7000 [==============================] - 95s 14ms/step - loss: 2.8106 - acc: 0.1466 - val_loss: 2.2991 - val_acc: 0.3060\n",
      "Epoch 2/100\n",
      "7000/7000 [==============================] - 79s 11ms/step - loss: 2.4225 - acc: 0.2761 - val_loss: 2.0719 - val_acc: 0.3600\n",
      "Epoch 3/100\n",
      "7000/7000 [==============================] - 78s 11ms/step - loss: 2.1969 - acc: 0.3406 - val_loss: 1.9435 - val_acc: 0.3890\n",
      "Epoch 4/100\n",
      "7000/7000 [==============================] - 77s 11ms/step - loss: 2.0632 - acc: 0.3763 - val_loss: 1.8933 - val_acc: 0.4300\n",
      "Epoch 5/100\n",
      "7000/7000 [==============================] - 77s 11ms/step - loss: 1.9341 - acc: 0.4154 - val_loss: 1.8111 - val_acc: 0.4310\n",
      "Epoch 6/100\n",
      "7000/7000 [==============================] - 82s 12ms/step - loss: 1.8484 - acc: 0.4387 - val_loss: 1.6928 - val_acc: 0.4710\n",
      "Epoch 7/100\n",
      "7000/7000 [==============================] - 78s 11ms/step - loss: 1.7541 - acc: 0.4649 - val_loss: 1.7192 - val_acc: 0.4590\n",
      "Epoch 8/100\n",
      "7000/7000 [==============================] - 78s 11ms/step - loss: 1.6712 - acc: 0.4920 - val_loss: 1.6382 - val_acc: 0.5020\n",
      "Epoch 9/100\n",
      "7000/7000 [==============================] - 79s 11ms/step - loss: 1.6083 - acc: 0.5089 - val_loss: 1.6153 - val_acc: 0.4960\n",
      "Epoch 10/100\n",
      "7000/7000 [==============================] - 79s 11ms/step - loss: 1.5383 - acc: 0.5384 - val_loss: 1.5797 - val_acc: 0.5080\n",
      "Epoch 11/100\n",
      "7000/7000 [==============================] - 79s 11ms/step - loss: 1.4533 - acc: 0.5590 - val_loss: 1.5388 - val_acc: 0.5300\n",
      "Epoch 12/100\n",
      "7000/7000 [==============================] - 79s 11ms/step - loss: 1.4067 - acc: 0.5776 - val_loss: 1.6584 - val_acc: 0.5160\n",
      "Epoch 13/100\n",
      "7000/7000 [==============================] - 77s 11ms/step - loss: 1.3813 - acc: 0.5863 - val_loss: 1.6254 - val_acc: 0.5040\n",
      "Epoch 14/100\n",
      "7000/7000 [==============================] - 78s 11ms/step - loss: 1.2867 - acc: 0.6094 - val_loss: 1.5237 - val_acc: 0.5530\n",
      "Epoch 15/100\n",
      "7000/7000 [==============================] - 80s 11ms/step - loss: 1.2530 - acc: 0.6269 - val_loss: 1.5118 - val_acc: 0.5720\n",
      "Epoch 16/100\n",
      "7000/7000 [==============================] - 77s 11ms/step - loss: 1.1814 - acc: 0.6440 - val_loss: 1.6513 - val_acc: 0.5440\n",
      "Epoch 17/100\n",
      "7000/7000 [==============================] - 76s 11ms/step - loss: 1.1250 - acc: 0.6629 - val_loss: 1.5882 - val_acc: 0.5710\n",
      "Epoch 18/100\n",
      "7000/7000 [==============================] - 74s 11ms/step - loss: 1.0854 - acc: 0.6774 - val_loss: 1.5827 - val_acc: 0.5680\n",
      "Epoch 19/100\n",
      "7000/7000 [==============================] - 75s 11ms/step - loss: 1.0277 - acc: 0.6986 - val_loss: 1.5869 - val_acc: 0.5880\n",
      "Epoch 20/100\n",
      " 576/7000 [=>............................] - ETA: 1:05 - loss: 0.9540 - acc: 0.7326"
     ]
    }
   ],
   "source": [
    "for i in range(20):\n",
    "    if i==0:\n",
    "        numb_train = 7000\n",
    "        x_train, x_val = x_train_seq[:numb_train], x_train_seq[numb_train:]\n",
    "        y_train, y_val = labels_train[:numb_train], labels_train[numb_train:]\n",
    "    elif i==1:\n",
    "        numb_train = -7000\n",
    "        x_train, x_val = x_train_seq[numb_train:], x_train_seq[:numb_train]\n",
    "        y_train, y_val = labels_train[numb_train:], labels_train[:numb_train]\n",
    "    else:\n",
    "        x_train_seq, labels_train = _shuffle(x_train_seq, labels_train)\n",
    "        x_train, x_val, y_train, y_val = train_test_split(x_train_seq, labels_train, \n",
    "                                                              test_size=0.07)\n",
    "\n",
    "    model = train_BiLSTM(x_train,y_train,x_val,y_val,embedding_matrix, i)"
   ]
  },
  {
   "cell_type": "markdown",
   "metadata": {},
   "source": [
    "## Testing"
   ]
  },
  {
   "cell_type": "code",
   "execution_count": 79,
   "metadata": {},
   "outputs": [],
   "source": [
    "y_test = [np.where(r==1)[0][0] for r in labels_test ]\n",
    "from keras.models import load_model\n",
    "model4 = load_model('model/BiLSTM-00173-0.64643.hdf5')\n",
    "model3 = load_model('model/BiLSTM-00106-0.64286.hdf5')\n",
    "model2 = load_model('model/BiLSTM-00100-0.63036.hdf5')\n",
    "model1 = load_model('model/BiLSTM-00062-0.62500.hdf5')\n",
    "prediction4 = model4.predict(x_test_seq, batch_size=1000)\n",
    "prediction3 = model3.predict(x_test_seq, batch_size=1000)\n",
    "prediction2 = model2.predict(x_test_seq, batch_size=1000)\n",
    "prediction1 = model1.predict(x_test_seq, batch_size=1000)\n",
    "pred_y_prob = (prediction3+prediction2+prediction1+prediction4)/4\n",
    "pred_y = np.argmax(pred_y_prob,axis=1)"
   ]
  },
  {
   "cell_type": "code",
   "execution_count": 80,
   "metadata": {},
   "outputs": [
    {
     "name": "stdout",
     "output_type": "stream",
     "text": [
      "0.6547662863452337\n"
     ]
    }
   ],
   "source": [
    "print(accuracy_score(pred_y.tolist(), y_test)) \n",
    "#print(accuracy_score(prediction_2.tolist(), y_test)) "
   ]
  },
  {
   "cell_type": "code",
   "execution_count": 76,
   "metadata": {},
   "outputs": [
    {
     "name": "stdout",
     "output_type": "stream",
     "text": [
      "0.646301067353699\n"
     ]
    }
   ],
   "source": [
    "model4 = load_model('model/BiLSTM-00173-0.64643.hdf5')\n",
    "prediction3 = model4.predict(x_test_seq, batch_size=1000)\n",
    "pred_y = np.argmax(prediction3,axis=1)\n",
    "print(accuracy_score(pred_y.tolist(), y_test)) "
   ]
  },
  {
   "cell_type": "code",
   "execution_count": null,
   "metadata": {},
   "outputs": [],
   "source": []
  }
 ],
 "metadata": {
  "kernelspec": {
   "display_name": "Python 3",
   "language": "python",
   "name": "python3"
  },
  "language_info": {
   "codemirror_mode": {
    "name": "ipython",
    "version": 3
   },
   "file_extension": ".py",
   "mimetype": "text/x-python",
   "name": "python",
   "nbconvert_exporter": "python",
   "pygments_lexer": "ipython3",
   "version": "3.6.4"
  }
 },
 "nbformat": 4,
 "nbformat_minor": 2
}
