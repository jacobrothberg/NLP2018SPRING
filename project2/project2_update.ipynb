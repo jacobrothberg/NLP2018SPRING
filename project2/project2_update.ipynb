{
 "cells": [
  {
   "cell_type": "code",
   "execution_count": 102,
   "metadata": {},
   "outputs": [],
   "source": [
    "import re\n",
    "import nltk\n",
    "import data_helpers\n",
    "import numpy as np\n",
    "import pickle as pk\n",
    "from nltk.corpus import wordnet as wn\n",
    "from nltk.stem import WordNetLemmatizer\n",
    "lemmatizer = WordNetLemmatizer()\n",
    "#import spacy\n",
    "#from spacy import displacy\n",
    "#% matplotlib inline"
   ]
  },
  {
   "cell_type": "markdown",
   "metadata": {},
   "source": [
    "## Load Data"
   ]
  },
  {
   "cell_type": "code",
   "execution_count": 103,
   "metadata": {},
   "outputs": [],
   "source": [
    "def clean_str(string):\n",
    "    \"\"\"\n",
    "    Tokenization/string cleaning for all datasets except for SST.\n",
    "    Original taken from https://github.com/yoonkim/CNN_sentence/blob/master/process_data.py\n",
    "    \"\"\"\n",
    "    string = re.sub(r\"[^A-Za-z0-9(),!?\\'\\`]\", \" \", string)\n",
    "    string = re.sub(r\"\\'s\", \" \\'s\", string)\n",
    "    string = re.sub(r\"\\'ve\", \" \\'ve\", string)\n",
    "    string = re.sub(r\"n\\'t\", \" n\\'t\", string)\n",
    "    string = re.sub(r\"\\'re\", \" \\'re\", string)\n",
    "    string = re.sub(r\"\\'d\", \" \\'d\", string)\n",
    "    string = re.sub(r\"\\'ll\", \" \\'ll\", string)\n",
    "    string = re.sub(r\",\", \" , \", string)\n",
    "    string = re.sub(r\"!\", \" ! \", string)\n",
    "    string = re.sub(r\"\\(\", \" \\( \", string)\n",
    "    string = re.sub(r\"\\)\", \" \\) \", string)\n",
    "    string = re.sub(r\"\\?\", \" \\? \", string)\n",
    "    string = re.sub(r\"\\s{2,}\", \" \", string)\n",
    "    return string.strip().lower()"
   ]
  },
  {
   "cell_type": "code",
   "execution_count": 104,
   "metadata": {},
   "outputs": [],
   "source": [
    "def labels_mapping(relation):\n",
    "    labelsMapping = {'Other': 0,\n",
    "                 'Message-Topic(e1,e2)': 1, 'Message-Topic(e2,e1)': 2,\n",
    "                 'Product-Producer(e1,e2)': 3, 'Product-Producer(e2,e1)': 4,\n",
    "                 'Instrument-Agency(e1,e2)': 5, 'Instrument-Agency(e2,e1)': 6,\n",
    "                 'Entity-Destination(e1,e2)': 7, 'Entity-Destination(e2,e1)': 8,\n",
    "                 'Cause-Effect(e1,e2)': 9, 'Cause-Effect(e2,e1)': 10,\n",
    "                 'Component-Whole(e1,e2)': 11, 'Component-Whole(e2,e1)': 12,\n",
    "                 'Entity-Origin(e1,e2)': 13, 'Entity-Origin(e2,e1)': 14,\n",
    "                 'Member-Collection(e1,e2)': 15, 'Member-Collection(e2,e1)': 16,\n",
    "                 'Content-Container(e1,e2)': 17, 'Content-Container(e2,e1)': 18}\n",
    "    return labelsMapping[relation]"
   ]
  },
  {
   "cell_type": "code",
   "execution_count": 105,
   "metadata": {},
   "outputs": [],
   "source": [
    "def find_between( s, first, last ):\n",
    "    try:\n",
    "        start = s.index( first ) + len( first )\n",
    "        end = s.index( last, start )\n",
    "        return s[start:end].strip()\n",
    "    except ValueError:\n",
    "        return \"\""
   ]
  },
  {
   "cell_type": "code",
   "execution_count": 106,
   "metadata": {},
   "outputs": [],
   "source": [
    "def read_data(path):\n",
    "    with open(path, \"r\") as f:\n",
    "        lines = [line.strip() for line in f.readlines()]\n",
    "        #lines = lines[:10]\n",
    "    return lines\n",
    "\n",
    "def load_train_data(path):\n",
    "    data = []\n",
    "    sentence_list = []\n",
    "    data_label = []\n",
    "    position = []\n",
    "    lines = read_data(path)     \n",
    "    for idx in range(0, len(lines), 4):\n",
    "        ID = lines[idx].split(\"\\t\")[0]\n",
    "        \n",
    "        sentence = lines[idx].split(\"\\t\")[1][1:-1]\n",
    "        sentence_list.append(sentence.replace('<e1>', \"\").replace('<e2>', \"\").replace('</e1>', \"\").replace('</e2>', \"\"))\n",
    "        sentence = clean_str(sentence)\n",
    "        entity_1 = find_between(sentence, 'e1', 'e1')\n",
    "        entity_2 = find_between(sentence, 'e2', 'e2')\n",
    "\n",
    "        if len(entity_1.split(' ')) > 1:\n",
    "            entity_1 = entity_1.split(' ')[-1]\n",
    "        if len(entity_2.split(' ')) > 1:\n",
    "            entity_2 = entity_2.split(' ')[-1]\n",
    "        sentence = sentence.replace('e1 ', \"\").replace(' e2', \"\").replace('e2 ', \"\").strip()\n",
    "\n",
    "        p1 = sentence.split(' ').index(entity_1)\n",
    "        p2 = sentence.split(' ').index(entity_2)\n",
    "        if p1 == p2:\n",
    "            p2 = [index for index in range(len(sentence.split(' '))) if sentence.split(' ')[index] == entity_2][1]\n",
    "        position.append([p1,p2])\n",
    "        \n",
    "        relation = lines[idx + 1]\n",
    "        relation_label = labels_mapping(relation)\n",
    "        \n",
    "        data.append([ID,sentence, entity_1, entity_2])\n",
    "        data_label.append([ID, relation, relation_label])\n",
    "        \n",
    "    return data, data_label, position, sentence_list\n",
    "\n",
    "def load_test_data(path):\n",
    "    data = []\n",
    "    position = []\n",
    "    sentence_list = []\n",
    "    lines = read_data(path)\n",
    "    for idx in range(0, len(lines)):\n",
    "        ID = lines[idx].split(\"\\t\")[0]\n",
    "        \n",
    "        sentence = lines[idx].split(\"\\t\")[1][1:-1]\n",
    "        sentence_list.append(sentence.replace('<e1>', \"\").replace('<e2>', \"\").replace('</e1>', \"\").replace('</e2>', \"\"))\n",
    "        sentence = clean_str(sentence)\n",
    "        entity_1 = find_between(sentence, 'e1', 'e1')\n",
    "        entity_2 = find_between(sentence, 'e2', 'e2')\n",
    "        if len(entity_1.split(' ')) > 1:\n",
    "            entity_1 = entity_1.split(' ')[-1]\n",
    "        if len(entity_2.split(' ')) > 1:\n",
    "            entity_2 = entity_2.split(' ')[-1]\n",
    "        sentence = sentence.replace('e1 ', \"\").replace(' e2', \"\").replace('e2 ', \"\").strip()\n",
    "        \n",
    "        p1 = sentence.split(' ').index(entity_1)\n",
    "        p2 = sentence.split(' ').index(entity_2)\n",
    "        if p1 == p2:\n",
    "            p2 = [index for index in range(len(sentence.split(' '))) if sentence.split(' ')[index] == entity_2][1]\n",
    "        position.append([p1,p2])\n",
    "        data.append([ID, sentence, entity_1, entity_2])\n",
    "    return data, position, sentence_list\n",
    "\n",
    "def load_test_answer(path):\n",
    "    lines = read_data(path)\n",
    "    data = []\n",
    "    for idx in range(0, len(lines)):\n",
    "        ID = lines[idx].split(\"\\t\")[0]\n",
    "        relation = lines[idx].split(\"\\t\")[1]\n",
    "        relation_label = labels_mapping(relation)\n",
    "        data.append([ID, relation, relation_label])\n",
    "    return data"
   ]
  },
  {
   "cell_type": "code",
   "execution_count": 107,
   "metadata": {},
   "outputs": [
    {
     "name": "stdout",
     "output_type": "stream",
     "text": [
      "number of training instances: 8000\n",
      "number of testing instances: 2717\n"
     ]
    }
   ],
   "source": [
    "train, train_label, train_position, train_sentence = load_train_data('data/TRAIN_FILE.txt')\n",
    "test, test_position, test_sentence = load_test_data('data/TEST_FILE.txt')\n",
    "test_label = load_test_answer('data/answer_key.txt')\n",
    "sentence_list = train_sentence + test_sentence\n",
    "print(\"number of training instances:\", len(train))\n",
    "print(\"number of testing instances:\", len(test))"
   ]
  },
  {
   "cell_type": "code",
   "execution_count": 69,
   "metadata": {},
   "outputs": [
    {
     "name": "stdout",
     "output_type": "stream",
     "text": [
      "['515', 'the small box was placed inside the large box and the 4 inch of surrounding space filled with either shredded fabric , fiberglass insulation or no insulation', 'box', 'box']\n",
      "['515', 'Entity-Destination(e1,e2)', 7]\n",
      "[2, 8]\n"
     ]
    }
   ],
   "source": [
    "print(train[514])\n",
    "print(train_label[514])\n",
    "print(train_position[514])"
   ]
  },
  {
   "cell_type": "code",
   "execution_count": 70,
   "metadata": {},
   "outputs": [
    {
     "name": "stdout",
     "output_type": "stream",
     "text": [
      "['5121', 'the mp3 player was inside a silicone case that covered everything but the click wheel and the screen', 'player', 'case']\n",
      "['5121', 'Content-Container(e1,e2)', 17]\n",
      "[2, 7]\n"
     ]
    }
   ],
   "source": [
    "print(train[5120])\n",
    "print(train_label[5120])\n",
    "print(train_position[5120])"
   ]
  },
  {
   "cell_type": "code",
   "execution_count": 71,
   "metadata": {},
   "outputs": [
    {
     "name": "stdout",
     "output_type": "stream",
     "text": [
      "['8001', 'the most common audits were about waste and recycling', 'audits', 'waste']\n",
      "['8001', 'Message-Topic(e1,e2)', 1]\n",
      "[3, 6]\n"
     ]
    }
   ],
   "source": [
    "print(test[0])\n",
    "print(test_label[0])\n",
    "print(test_position[0])"
   ]
  },
  {
   "cell_type": "code",
   "execution_count": 85,
   "metadata": {},
   "outputs": [],
   "source": [
    "np.save('data/sentence_list.npy', sentence_list)  #used for propBank parser"
   ]
  },
  {
   "cell_type": "markdown",
   "metadata": {},
   "source": [
    "### features"
   ]
  },
  {
   "cell_type": "markdown",
   "metadata": {},
   "source": [
    "1. dependency parse"
   ]
  },
  {
   "cell_type": "code",
   "execution_count": 23,
   "metadata": {
    "collapsed": true
   },
   "outputs": [],
   "source": [
    "nlp = spacy.load('en_core_web_sm')"
   ]
  },
  {
   "cell_type": "code",
   "execution_count": 70,
   "metadata": {},
   "outputs": [
    {
     "data": {
      "text/plain": [
       "'the mp3 player was inside a silicone case e2 that covered everything but the click wheel and the screen'"
      ]
     },
     "execution_count": 70,
     "metadata": {},
     "output_type": "execute_result"
    }
   ],
   "source": [
    "demo_id = 5120\n",
    "demo_sentence = train[demo_id][1]\n",
    "demo_sentence"
   ]
  },
  {
   "cell_type": "code",
   "execution_count": 64,
   "metadata": {},
   "outputs": [
    {
     "data": {
      "text/plain": [
       "[1, 2]"
      ]
     },
     "execution_count": 64,
     "metadata": {},
     "output_type": "execute_result"
    }
   ],
   "source": [
    "train_position[demo_id]"
   ]
  },
  {
   "cell_type": "code",
   "execution_count": 68,
   "metadata": {
    "scrolled": true
   },
   "outputs": [
    {
     "name": "stdout",
     "output_type": "stream",
     "text": [
      "student NN compound xxxx False 0 [association, is]\n",
      "association NN nsubj xxxx False 0 [is]\n"
     ]
    }
   ],
   "source": [
    "doc = nlp(demo_sentence)\n",
    "\n",
    "for pos, token in enumerate(doc):\n",
    "    if pos in train_position[demo_id]:\n",
    "        ancestors = [i for i in token.ancestors]\n",
    "        print(token.text, token.tag_, token.dep_,\n",
    "              token.shape_, token.is_stop, token.ent_type,ancestors)\n",
    "\n",
    "# displacy.serve(doc, style='dep')"
   ]
  },
  {
   "cell_type": "code",
   "execution_count": 31,
   "metadata": {},
   "outputs": [
    {
     "name": "stdout",
     "output_type": "stream",
     "text": [
      "['the', 'student']\n",
      "[]\n",
      "2\n",
      "0\n"
     ]
    }
   ],
   "source": [
    "position_id = 2\n",
    "print([token.text for token in doc[position_id].lefts])  # ['bright', 'red']\n",
    "print([token.text for token in doc[position_id].rights])  # ['on']\n",
    "print(doc[position_id].n_lefts)  # 2\n",
    "print(doc[position_id].n_rights)  # 1"
   ]
  },
  {
   "cell_type": "markdown",
   "metadata": {
    "collapsed": true
   },
   "source": [
    "2 propBank (resource：https://github.com/google/sling)"
   ]
  },
  {
   "cell_type": "code",
   "execution_count": 91,
   "metadata": {},
   "outputs": [],
   "source": [
    "with open('dict/propBank_dict.pk', 'rb') as f:\n",
    "    propBank_dict = pk.load(f)"
   ]
  },
  {
   "cell_type": "code",
   "execution_count": 99,
   "metadata": {},
   "outputs": [
    {
     "name": "stdout",
     "output_type": "stream",
     "text": [
      "['117', 'forward motion of the vehicle through the air caused a suction on the road draft tube', 'motion', 'suction']\n",
      "['8117', 'Product-Producer(e1,e2)', 3]\n",
      "[1, 8]\n"
     ]
    }
   ],
   "source": [
    "print(train[116])\n",
    "print(test_label[116])\n",
    "print(test_position[116])"
   ]
  },
  {
   "cell_type": "code",
   "execution_count": 96,
   "metadata": {},
   "outputs": [
    {
     "data": {
      "text/plain": [
       "'Forward motion of the vehicle through the air caused a suction on the road draft tube.'"
      ]
     },
     "execution_count": 96,
     "metadata": {},
     "output_type": "execute_result"
    }
   ],
   "source": [
    "propBank_dict[116]['text']"
   ]
  },
  {
   "cell_type": "code",
   "execution_count": 97,
   "metadata": {},
   "outputs": [
    {
     "data": {
      "text/plain": [
       "[['cause.01', 'caused', 8, 'ARG0_agent', 'Forward motion'],\n",
       " ['cause.01', 'caused', 8, 'ARG1_patient', 'suction']]"
      ]
     },
     "execution_count": 97,
     "metadata": {},
     "output_type": "execute_result"
    }
   ],
   "source": [
    "propBank_dict[116]['propBank']"
   ]
  },
  {
   "cell_type": "markdown",
   "metadata": {},
   "source": [
    "3 wordnet"
   ]
  },
  {
   "cell_type": "code",
   "execution_count": 100,
   "metadata": {},
   "outputs": [],
   "source": [
    "def get_wordnet_tag(tag):\n",
    "    if tag.startswith('J'):\n",
    "        return wn.ADJ\n",
    "    elif tag.startswith('N'):\n",
    "        return wn.NOUN\n",
    "    elif tag.startswith('R'):\n",
    "        return wn.ADV\n",
    "    elif tag.startswith('V'):\n",
    "        return wn.VERB\n",
    "    return 'None'"
   ]
  },
  {
   "cell_type": "code",
   "execution_count": 114,
   "metadata": {},
   "outputs": [],
   "source": [
    "def check(token, token_tag):\n",
    "    print('-> ' + token + '  pos: ' + token_tag)\n",
    "    if token_tag in (wn.NOUN, wn.ADJ, wn.ADV,  wn.VERB):            \n",
    "        lemma = lemmatizer.lemmatize(word, pos=token_tag)\n",
    "        if lemma:\n",
    "            synsets = wn.synsets(lemma, pos=token_tag)\n",
    "            print('wordnet:')\n",
    "            print(synsets) \n",
    "        else:\n",
    "            print(token + ' not in wordnet.')\n",
    "    else:\n",
    "        print(token + ' not in wordnet.')\n",
    "    print()\n",
    "        \n",
    "    "
   ]
  },
  {
   "cell_type": "code",
   "execution_count": 115,
   "metadata": {},
   "outputs": [
    {
     "name": "stdout",
     "output_type": "stream",
     "text": [
      "The system as described above has its greatest application in an arrayed configuration of antenna elements.\n",
      "-> the  pos: None\n",
      "the not in wordnet.\n",
      "\n",
      "-> system  pos: n\n",
      "wordnet:\n",
      "[Synset('system.n.01'), Synset('system.n.02'), Synset('system.n.03'), Synset('system.n.04'), Synset('arrangement.n.03'), Synset('system.n.06'), Synset('system.n.07'), Synset('system.n.08'), Synset('organization.n.05')]\n",
      "\n",
      "-> as  pos: None\n",
      "as not in wordnet.\n",
      "\n",
      "-> described  pos: v\n",
      "wordnet:\n",
      "[Synset('describe.v.01'), Synset('report.v.01'), Synset('trace.v.02'), Synset('identify.v.05')]\n",
      "\n",
      "-> above  pos: None\n",
      "above not in wordnet.\n",
      "\n",
      "-> has  pos: v\n",
      "wordnet:\n",
      "[Synset('have.v.01'), Synset('have.v.02'), Synset('experience.v.03'), Synset('own.v.01'), Synset('get.v.03'), Synset('consume.v.02'), Synset('have.v.07'), Synset('hold.v.03'), Synset('have.v.09'), Synset('have.v.10'), Synset('have.v.11'), Synset('have.v.12'), Synset('induce.v.02'), Synset('accept.v.02'), Synset('receive.v.01'), Synset('suffer.v.02'), Synset('have.v.17'), Synset('give_birth.v.01'), Synset('take.v.35')]\n",
      "\n",
      "-> its  pos: None\n",
      "its not in wordnet.\n",
      "\n",
      "-> greatest  pos: a\n",
      "wordnet:\n",
      "[Synset('great.s.01'), Synset('great.s.02'), Synset('great.s.03'), Synset('bang-up.s.01'), Synset('capital.s.03'), Synset('big.s.13')]\n",
      "\n",
      "-> application  pos: n\n",
      "wordnet:\n",
      "[Synset('application.n.01'), Synset('application.n.02'), Synset('application.n.03'), Synset('application.n.04'), Synset('lotion.n.02'), Synset('application.n.06'), Synset('application.n.07')]\n",
      "\n",
      "-> in  pos: None\n",
      "in not in wordnet.\n",
      "\n",
      "-> an  pos: None\n",
      "an not in wordnet.\n",
      "\n",
      "-> arrayed  pos: a\n",
      "wordnet:\n",
      "[Synset('arrayed.s.01')]\n",
      "\n",
      "-> configuration  pos: n\n",
      "wordnet:\n",
      "[Synset('configuration.n.01'), Synset('shape.n.01')]\n",
      "\n",
      "-> of  pos: None\n",
      "of not in wordnet.\n",
      "\n",
      "-> antenna  pos: a\n",
      "wordnet:\n",
      "[]\n",
      "\n",
      "-> elements  pos: n\n",
      "wordnet:\n",
      "[Synset('component.n.01'), Synset('component.n.03'), Synset('chemical_element.n.01'), Synset('element.n.04'), Synset('element.n.05'), Synset('element.n.06'), Synset('element.n.07')]\n",
      "\n",
      "-> .  pos: None\n",
      ". not in wordnet.\n",
      "\n",
      "------------------------------------------------------------------\n",
      "The child was carefully wrapped and bound into the cradle by means of a cord.\n",
      "-> the  pos: None\n",
      "the not in wordnet.\n",
      "\n",
      "-> child  pos: n\n",
      "wordnet:\n",
      "[Synset('child.n.01'), Synset('child.n.02'), Synset('child.n.03'), Synset('child.n.04')]\n",
      "\n",
      "-> was  pos: v\n",
      "wordnet:\n",
      "[Synset('be.v.01'), Synset('be.v.02'), Synset('be.v.03'), Synset('exist.v.01'), Synset('be.v.05'), Synset('equal.v.01'), Synset('constitute.v.01'), Synset('be.v.08'), Synset('embody.v.02'), Synset('be.v.10'), Synset('be.v.11'), Synset('be.v.12'), Synset('cost.v.01')]\n",
      "\n",
      "-> carefully  pos: r\n",
      "wordnet:\n",
      "[Synset('carefully.r.01'), Synset('cautiously.r.01')]\n",
      "\n",
      "-> wrapped  pos: v\n",
      "wordnet:\n",
      "[Synset('wrap.v.01'), Synset('wind.v.03'), Synset('envelop.v.01'), Synset('wrap.v.04')]\n",
      "\n",
      "-> and  pos: None\n",
      "and not in wordnet.\n",
      "\n",
      "-> bound  pos: v\n",
      "wordnet:\n",
      "[Synset('adhere.v.06'), Synset('bind.v.02'), Synset('bind.v.03'), Synset('bind.v.04'), Synset('tie_down.v.01'), Synset('oblige.v.02'), Synset('bind.v.07'), Synset('tie.v.01'), Synset('bind.v.09'), Synset('constipate.v.02')]\n",
      "\n",
      "-> into  pos: None\n",
      "into not in wordnet.\n",
      "\n",
      "-> the  pos: None\n",
      "the not in wordnet.\n",
      "\n",
      "-> cradle  pos: n\n",
      "wordnet:\n",
      "[Synset('cradle.n.01'), Synset('birthplace.n.02'), Synset('cradle.n.03'), Synset('rocker.n.05')]\n",
      "\n",
      "-> by  pos: None\n",
      "by not in wordnet.\n",
      "\n",
      "-> means  pos: n\n",
      "wordnet:\n",
      "[Synset('mean.n.01')]\n",
      "\n",
      "-> of  pos: None\n",
      "of not in wordnet.\n",
      "\n",
      "-> a  pos: None\n",
      "a not in wordnet.\n",
      "\n",
      "-> cord  pos: n\n",
      "wordnet:\n",
      "[Synset('cord.n.01'), Synset('cord.n.02'), Synset('cord.n.03'), Synset('cord.n.04')]\n",
      "\n",
      "-> .  pos: None\n",
      ". not in wordnet.\n",
      "\n",
      "------------------------------------------------------------------\n"
     ]
    }
   ],
   "source": [
    "for sentence in sentence_list[:2]:\n",
    "    \n",
    "    sentence_token = nltk.word_tokenize(sentence)\n",
    "    sentence_tagged = nltk.pos_tag(sentence_token)\n",
    "    print(sentence)\n",
    "    for tagged in sentence_tagged:\n",
    "        \n",
    "        wn_tag = get_wordnet_tag(tagged[1])\n",
    "        word = tagged[0].lower()\n",
    "        check(word, wn_tag)\n",
    "    print('------------------------------------------------------------------')"
   ]
  },
  {
   "cell_type": "code",
   "execution_count": null,
   "metadata": {},
   "outputs": [],
   "source": []
  },
  {
   "cell_type": "code",
   "execution_count": null,
   "metadata": {},
   "outputs": [],
   "source": []
  }
 ],
 "metadata": {
  "kernelspec": {
   "display_name": "Python 3",
   "language": "python",
   "name": "python3"
  },
  "language_info": {
   "codemirror_mode": {
    "name": "ipython",
    "version": 3
   },
   "file_extension": ".py",
   "mimetype": "text/x-python",
   "name": "python",
   "nbconvert_exporter": "python",
   "pygments_lexer": "ipython3",
   "version": "3.6.4"
  }
 },
 "nbformat": 4,
 "nbformat_minor": 2
}
