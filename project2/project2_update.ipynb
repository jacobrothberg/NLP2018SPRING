{
 "cells": [
  {
   "cell_type": "code",
   "execution_count": 90,
   "metadata": {},
   "outputs": [],
   "source": [
    "import re\n",
    "import nltk\n",
    "import data_helpers\n",
    "import numpy as np\n",
    "import pickle as pk\n",
    "import spacy\n",
    "from spacy import displacy\n",
    "% matplotlib inline"
   ]
  },
  {
   "cell_type": "markdown",
   "metadata": {},
   "source": [
    "## Load Data"
   ]
  },
  {
   "cell_type": "code",
   "execution_count": 26,
   "metadata": {},
   "outputs": [],
   "source": [
    "def clean_str(string):\n",
    "    \"\"\"\n",
    "    Tokenization/string cleaning for all datasets except for SST.\n",
    "    Original taken from https://github.com/yoonkim/CNN_sentence/blob/master/process_data.py\n",
    "    \"\"\"\n",
    "    string = re.sub(r\"[^A-Za-z0-9(),!?\\'\\`]\", \" \", string)\n",
    "    string = re.sub(r\"\\'s\", \" \\'s\", string)\n",
    "    string = re.sub(r\"\\'ve\", \" \\'ve\", string)\n",
    "    string = re.sub(r\"n\\'t\", \" n\\'t\", string)\n",
    "    string = re.sub(r\"\\'re\", \" \\'re\", string)\n",
    "    string = re.sub(r\"\\'d\", \" \\'d\", string)\n",
    "    string = re.sub(r\"\\'ll\", \" \\'ll\", string)\n",
    "    string = re.sub(r\",\", \" , \", string)\n",
    "    string = re.sub(r\"!\", \" ! \", string)\n",
    "    string = re.sub(r\"\\(\", \" \\( \", string)\n",
    "    string = re.sub(r\"\\)\", \" \\) \", string)\n",
    "    string = re.sub(r\"\\?\", \" \\? \", string)\n",
    "    string = re.sub(r\"\\s{2,}\", \" \", string)\n",
    "    return string.strip().lower()"
   ]
  },
  {
   "cell_type": "code",
   "execution_count": 27,
   "metadata": {},
   "outputs": [],
   "source": [
    "def labels_mapping(relation):\n",
    "    labelsMapping = {'Other': 0,\n",
    "                 'Message-Topic(e1,e2)': 1, 'Message-Topic(e2,e1)': 2,\n",
    "                 'Product-Producer(e1,e2)': 3, 'Product-Producer(e2,e1)': 4,\n",
    "                 'Instrument-Agency(e1,e2)': 5, 'Instrument-Agency(e2,e1)': 6,\n",
    "                 'Entity-Destination(e1,e2)': 7, 'Entity-Destination(e2,e1)': 8,\n",
    "                 'Cause-Effect(e1,e2)': 9, 'Cause-Effect(e2,e1)': 10,\n",
    "                 'Component-Whole(e1,e2)': 11, 'Component-Whole(e2,e1)': 12,\n",
    "                 'Entity-Origin(e1,e2)': 13, 'Entity-Origin(e2,e1)': 14,\n",
    "                 'Member-Collection(e1,e2)': 15, 'Member-Collection(e2,e1)': 16,\n",
    "                 'Content-Container(e1,e2)': 17, 'Content-Container(e2,e1)': 18}\n",
    "    return labelsMapping[relation]"
   ]
  },
  {
   "cell_type": "code",
   "execution_count": 28,
   "metadata": {},
   "outputs": [],
   "source": [
    "def find_between( s, first, last ):\n",
    "    try:\n",
    "        start = s.index( first ) + len( first )\n",
    "        end = s.index( last, start )\n",
    "        return s[start:end].strip()\n",
    "    except ValueError:\n",
    "        return \"\""
   ]
  },
  {
   "cell_type": "code",
   "execution_count": 78,
   "metadata": {},
   "outputs": [],
   "source": [
    "def read_data(path):\n",
    "    with open(path, \"r\") as f:\n",
    "        lines = [line.strip() for line in f.readlines()]\n",
    "        #lines = lines[:10]\n",
    "    return lines\n",
    "\n",
    "def load_train_data(path):\n",
    "    data = []\n",
    "    sentence_list = []\n",
    "    data_label = []\n",
    "    position = []\n",
    "    lines = read_data(path)     \n",
    "    for idx in range(0, len(lines), 4):\n",
    "        ID = lines[idx].split(\"\\t\")[0]\n",
    "        \n",
    "        sentence = lines[idx].split(\"\\t\")[1][1:-1]\n",
    "        sentence_list.append(sentence.replace('<e1>', \"\").replace('<e2>', \"\").replace('</e1>', \"\").replace('</e2>', \"\"))\n",
    "        sentence = clean_str(sentence)\n",
    "        entity_1 = find_between(sentence, 'e1', 'e1')\n",
    "        entity_2 = find_between(sentence, 'e2', 'e2')\n",
    "\n",
    "        if len(entity_1.split(' ')) > 1:\n",
    "            entity_1 = entity_1.split(' ')[-1]\n",
    "        if len(entity_2.split(' ')) > 1:\n",
    "            entity_2 = entity_2.split(' ')[-1]\n",
    "        sentence = sentence.replace('e1 ', \"\").replace(' e2', \"\").replace('e2 ', \"\").strip()\n",
    "\n",
    "        p1 = sentence.split(' ').index(entity_1)\n",
    "        p2 = sentence.split(' ').index(entity_2)\n",
    "        if p1 == p2:\n",
    "            p2 = [index for index in range(len(sentence.split(' '))) if sentence.split(' ')[index] == entity_2][1]\n",
    "        position.append([p1,p2])\n",
    "        \n",
    "        relation = lines[idx + 1]\n",
    "        relation_label = labels_mapping(relation)\n",
    "        \n",
    "        data.append([ID,sentence, entity_1, entity_2])\n",
    "        data_label.append([ID, relation, relation_label])\n",
    "        \n",
    "    return data, data_label, position, sentence_list\n",
    "\n",
    "def load_test_data(path):\n",
    "    data = []\n",
    "    position = []\n",
    "    sentence_list = []\n",
    "    lines = read_data(path)\n",
    "    for idx in range(0, len(lines)):\n",
    "        ID = lines[idx].split(\"\\t\")[0]\n",
    "        \n",
    "        sentence = lines[idx].split(\"\\t\")[1][1:-1]\n",
    "        sentence_list.append(sentence.replace('<e1>', \"\").replace('<e2>', \"\").replace('</e1>', \"\").replace('</e2>', \"\"))\n",
    "        sentence = clean_str(sentence)\n",
    "        entity_1 = find_between(sentence, 'e1', 'e1')\n",
    "        entity_2 = find_between(sentence, 'e2', 'e2')\n",
    "        if len(entity_1.split(' ')) > 1:\n",
    "            entity_1 = entity_1.split(' ')[-1]\n",
    "        if len(entity_2.split(' ')) > 1:\n",
    "            entity_2 = entity_2.split(' ')[-1]\n",
    "        sentence = sentence.replace('e1 ', \"\").replace(' e2', \"\").replace('e2 ', \"\").strip()\n",
    "        \n",
    "        p1 = sentence.split(' ').index(entity_1)\n",
    "        p2 = sentence.split(' ').index(entity_2)\n",
    "        if p1 == p2:\n",
    "            p2 = [index for index in range(len(sentence.split(' '))) if sentence.split(' ')[index] == entity_2][1]\n",
    "        position.append([p1,p2])\n",
    "        data.append([ID, sentence, entity_1, entity_2])\n",
    "    return data, position, sentence_list\n",
    "\n",
    "def load_test_answer(path):\n",
    "    lines = read_data(path)\n",
    "    data = []\n",
    "    for idx in range(0, len(lines)):\n",
    "        ID = lines[idx].split(\"\\t\")[0]\n",
    "        relation = lines[idx].split(\"\\t\")[1]\n",
    "        relation_label = labels_mapping(relation)\n",
    "        data.append([ID, relation, relation_label])\n",
    "    return data"
   ]
  },
  {
   "cell_type": "code",
   "execution_count": 79,
   "metadata": {},
   "outputs": [
    {
     "name": "stdout",
     "output_type": "stream",
     "text": [
      "number of training instances: 8000\n",
      "number of testing instances: 2717\n"
     ]
    }
   ],
   "source": [
    "train, train_label, train_position, train_sentence = load_train_data('data/TRAIN_FILE.txt')\n",
    "test, test_position, test_sentence = load_test_data('data/TEST_FILE.txt')\n",
    "test_label = load_test_answer('data/answer_key.txt')\n",
    "sentence_list = train_sentence + test_sentence\n",
    "print(\"number of training instances:\", len(train))\n",
    "print(\"number of testing instances:\", len(test))"
   ]
  },
  {
   "cell_type": "code",
   "execution_count": 69,
   "metadata": {},
   "outputs": [
    {
     "name": "stdout",
     "output_type": "stream",
     "text": [
      "['515', 'the small box was placed inside the large box and the 4 inch of surrounding space filled with either shredded fabric , fiberglass insulation or no insulation', 'box', 'box']\n",
      "['515', 'Entity-Destination(e1,e2)', 7]\n",
      "[2, 8]\n"
     ]
    }
   ],
   "source": [
    "print(train[514])\n",
    "print(train_label[514])\n",
    "print(train_position[514])"
   ]
  },
  {
   "cell_type": "code",
   "execution_count": 70,
   "metadata": {},
   "outputs": [
    {
     "name": "stdout",
     "output_type": "stream",
     "text": [
      "['5121', 'the mp3 player was inside a silicone case that covered everything but the click wheel and the screen', 'player', 'case']\n",
      "['5121', 'Content-Container(e1,e2)', 17]\n",
      "[2, 7]\n"
     ]
    }
   ],
   "source": [
    "print(train[5120])\n",
    "print(train_label[5120])\n",
    "print(train_position[5120])"
   ]
  },
  {
   "cell_type": "code",
   "execution_count": 71,
   "metadata": {},
   "outputs": [
    {
     "name": "stdout",
     "output_type": "stream",
     "text": [
      "['8001', 'the most common audits were about waste and recycling', 'audits', 'waste']\n",
      "['8001', 'Message-Topic(e1,e2)', 1]\n",
      "[3, 6]\n"
     ]
    }
   ],
   "source": [
    "print(test[0])\n",
    "print(test_label[0])\n",
    "print(test_position[0])"
   ]
  },
  {
   "cell_type": "code",
   "execution_count": 85,
   "metadata": {},
   "outputs": [],
   "source": [
    "np.save('data/sentence_list.npy', sentence_list)  #used for propBank parser"
   ]
  },
  {
   "cell_type": "markdown",
   "metadata": {},
   "source": [
    "### features"
   ]
  },
  {
   "cell_type": "markdown",
   "metadata": {},
   "source": [
    "1. dependency parse"
   ]
  },
  {
   "cell_type": "code",
   "execution_count": 23,
   "metadata": {
    "collapsed": true
   },
   "outputs": [],
   "source": [
    "nlp = spacy.load('en_core_web_sm')"
   ]
  },
  {
   "cell_type": "code",
   "execution_count": 70,
   "metadata": {},
   "outputs": [
    {
     "data": {
      "text/plain": [
       "'the mp3 player was inside a silicone case e2 that covered everything but the click wheel and the screen'"
      ]
     },
     "execution_count": 70,
     "metadata": {},
     "output_type": "execute_result"
    }
   ],
   "source": [
    "demo_id = 5120\n",
    "demo_sentence = train[demo_id][1]\n",
    "demo_sentence"
   ]
  },
  {
   "cell_type": "code",
   "execution_count": 64,
   "metadata": {},
   "outputs": [
    {
     "data": {
      "text/plain": [
       "[1, 2]"
      ]
     },
     "execution_count": 64,
     "metadata": {},
     "output_type": "execute_result"
    }
   ],
   "source": [
    "train_position[demo_id]"
   ]
  },
  {
   "cell_type": "code",
   "execution_count": 68,
   "metadata": {
    "scrolled": true
   },
   "outputs": [
    {
     "name": "stdout",
     "output_type": "stream",
     "text": [
      "student NN compound xxxx False 0 [association, is]\n",
      "association NN nsubj xxxx False 0 [is]\n"
     ]
    }
   ],
   "source": [
    "doc = nlp(demo_sentence)\n",
    "\n",
    "for pos, token in enumerate(doc):\n",
    "    if pos in train_position[demo_id]:\n",
    "        ancestors = [i for i in token.ancestors]\n",
    "        print(token.text, token.tag_, token.dep_,\n",
    "              token.shape_, token.is_stop, token.ent_type,ancestors)\n",
    "\n",
    "# displacy.serve(doc, style='dep')"
   ]
  },
  {
   "cell_type": "code",
   "execution_count": 31,
   "metadata": {},
   "outputs": [
    {
     "name": "stdout",
     "output_type": "stream",
     "text": [
      "['the', 'student']\n",
      "[]\n",
      "2\n",
      "0\n"
     ]
    }
   ],
   "source": [
    "position_id = 2\n",
    "print([token.text for token in doc[position_id].lefts])  # ['bright', 'red']\n",
    "print([token.text for token in doc[position_id].rights])  # ['on']\n",
    "print(doc[position_id].n_lefts)  # 2\n",
    "print(doc[position_id].n_rights)  # 1"
   ]
  },
  {
   "cell_type": "markdown",
   "metadata": {
    "collapsed": true
   },
   "source": [
    "2 propBank (resource：https://github.com/google/sling)"
   ]
  },
  {
   "cell_type": "code",
   "execution_count": 91,
   "metadata": {},
   "outputs": [],
   "source": [
    "with open('dict/propBank_dict.pk', 'rb') as f:\n",
    "    propBank_dict = pk.load(f)"
   ]
  },
  {
   "cell_type": "code",
   "execution_count": 99,
   "metadata": {},
   "outputs": [
    {
     "name": "stdout",
     "output_type": "stream",
     "text": [
      "['117', 'forward motion of the vehicle through the air caused a suction on the road draft tube', 'motion', 'suction']\n",
      "['8117', 'Product-Producer(e1,e2)', 3]\n",
      "[1, 8]\n"
     ]
    }
   ],
   "source": [
    "print(train[116])\n",
    "print(test_label[116])\n",
    "print(test_position[116])"
   ]
  },
  {
   "cell_type": "code",
   "execution_count": 96,
   "metadata": {},
   "outputs": [
    {
     "data": {
      "text/plain": [
       "'Forward motion of the vehicle through the air caused a suction on the road draft tube.'"
      ]
     },
     "execution_count": 96,
     "metadata": {},
     "output_type": "execute_result"
    }
   ],
   "source": [
    "propBank_dict[116]['text']"
   ]
  },
  {
   "cell_type": "code",
   "execution_count": 97,
   "metadata": {},
   "outputs": [
    {
     "data": {
      "text/plain": [
       "[['cause.01', 'caused', 8, 'ARG0_agent', 'Forward motion'],\n",
       " ['cause.01', 'caused', 8, 'ARG1_patient', 'suction']]"
      ]
     },
     "execution_count": 97,
     "metadata": {},
     "output_type": "execute_result"
    }
   ],
   "source": [
    "propBank_dict[116]['propBank']"
   ]
  }
 ],
 "metadata": {
  "kernelspec": {
   "display_name": "Python 3",
   "language": "python",
   "name": "python3"
  },
  "language_info": {
   "codemirror_mode": {
    "name": "ipython",
    "version": 3
   },
   "file_extension": ".py",
   "mimetype": "text/x-python",
   "name": "python",
   "nbconvert_exporter": "python",
   "pygments_lexer": "ipython3",
   "version": "3.6.4"
  }
 },
 "nbformat": 4,
 "nbformat_minor": 2
}
